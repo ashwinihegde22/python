{
  "nbformat": 4,
  "nbformat_minor": 0,
  "metadata": {
    "colab": {
      "provenance": [],
      "collapsed_sections": [],
      "authorship_tag": "ABX9TyNMmO4vEzaAExL/NwyhRb4j",
      "include_colab_link": true
    },
    "kernelspec": {
      "name": "python3",
      "display_name": "Python 3"
    },
    "language_info": {
      "name": "python"
    }
  },
  "cells": [
    {
      "cell_type": "markdown",
      "metadata": {
        "id": "view-in-github",
        "colab_type": "text"
      },
      "source": [
        "<a href=\"https://colab.research.google.com/github/ashwinihegde22/python/blob/main/exampython.ipynb\" target=\"_parent\"><img src=\"https://colab.research.google.com/assets/colab-badge.svg\" alt=\"Open In Colab\"/></a>"
      ]
    },
    {
      "cell_type": "code",
      "source": [
        "from itertools import count\n",
        "import numpy\n",
        "\n",
        "def lsearch(arr, x):\n",
        " \n",
        "    for i in range(len(arr)):\n",
        " \n",
        "        if arr[i] == x:\n",
        "            return i\n",
        " \n",
        "    return -1\n",
        "\n",
        "\n",
        "def binary_search(arr, low, high, x):\n",
        "    if high >= low:\n",
        " \n",
        "        mid = (high + low) // 2\n",
        "        if arr[mid] == x:\n",
        "            return mid\n",
        " \n",
        "        elif arr[mid] > x:\n",
        "            return binary_search(arr, low, mid - 1, x)\n",
        "        else:\n",
        "            return binary_search(arr, mid + 1, high, x)\n",
        " \n",
        "    else:\n",
        "        return -1\n",
        "\n",
        "arr = [int(item) for item in input(\"Enter the list items : \").split()]\n",
        "x = int(input(\"Enter num to search \"))\n",
        "\n",
        "\n",
        " \n",
        "def bubbleSort(arr):\n",
        "    n = len(arr)\n",
        "    \n",
        "    swapped = False\n",
        "    for i in range(n-1):\n",
        "        for j in range(0, n-i-1):\n",
        " \n",
        "         \n",
        "            if arr[j] > arr[j + 1]:\n",
        "                swapped = True\n",
        "                arr[j], arr[j + 1] = arr[j + 1], arr[j]\n",
        "         \n",
        "        if not swapped:\n",
        "            return\n",
        "    return arr\n",
        "\n",
        "\n",
        "def mean(arr):\n",
        "    sum = 0;    \n",
        "    for i in range(0, len(arr)):    \n",
        "        sum = sum + arr[i];    \n",
        "    res = sum/len(arr)\n",
        "    return res\n",
        "\n",
        "def mode(arr):\n",
        "    from collections import Counter\n",
        "    n_num = [1, 2, 3, 4, 5, 5]\n",
        "    n = len(n_num)\n",
        "    \n",
        "    data = Counter(n_num)\n",
        "    get_mode = dict(data)\n",
        "    mode = [k for k, v in get_mode.items() if v == max(list(data.values()))]\n",
        "    \n",
        "    if len(mode) == n:\n",
        "        get_mode = \"No mode found\"\n",
        "    else:\n",
        "        get_mode = \"Mode is / are: \" + ', '.join(map(str, mode))\n",
        "        \n",
        "    return get_mode\n",
        "            \n",
        "\n",
        "def median(n_num):\n",
        "    n = len(n_num)\n",
        "    n_num.sort()\n",
        "    \n",
        "    if n % 2 == 0:\n",
        "        median1 = n_num[n//2]\n",
        "        median2 = n_num[n//2 - 1]\n",
        "        median = (median1 + median2)/2\n",
        "    else:\n",
        "        median = n_num[n//2]\n",
        "    return median\n",
        "\n",
        "print(\"Number found at : \",lsearch(arr,x)+1,\"th position using Linear search\")\n",
        "print(\"Number found at : \",(binary_search(arr,0,len(arr),x))+1,\"th position using Binary search\")\n",
        "print(\"Number in sorted form : \",bubbleSort(arr))\n",
        "print(\"Mean of array is : \",mean(arr))\n",
        "print(\"Mode of array is : \",mode(arr))\n",
        "print(\"Median of array is : \",median(arr))\n"
      ],
      "metadata": {
        "colab": {
          "base_uri": "https://localhost:8080/"
        },
        "id": "-IVbBhEtzYOM",
        "outputId": "998ef9a4-58b2-463a-ebd0-91bdb93a36eb"
      },
      "execution_count": 6,
      "outputs": [
        {
          "output_type": "stream",
          "name": "stdout",
          "text": [
            "Enter the list items : 12 34 56 78 90 45 35  21 51 2 3 4 5 6 7 8 9 10  48\n",
            "Enter num to search 34\n",
            "Number found at :  2 th position using Linear search\n",
            "Number found at :  0 th position using Binary search\n",
            "Number in sorted form :  [2, 3, 4, 5, 6, 7, 8, 9, 10, 12, 21, 34, 35, 45, 48, 51, 56, 78, 90]\n",
            "Mean of array is :  27.57894736842105\n",
            "Mode of array is :  Mode is / are: 5\n",
            "Median of array is :  12\n"
          ]
        }
      ]
    },
    {
      "cell_type": "markdown",
      "source": [
        "Bubble sort:\n",
        "It is a simle and easy search algorithm.It is comparision based algorithm in which each pair of adjecent elements are compared and elements are swapped if they are not in the order.Each element in the array move to the nd in each iteration.Hence it is called as bubble sort."
      ],
      "metadata": {
        "id": "HNDuYGrS0bsz"
      }
    }
  ]
}