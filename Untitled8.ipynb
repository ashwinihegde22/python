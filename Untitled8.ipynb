{
  "nbformat": 4,
  "nbformat_minor": 0,
  "metadata": {
    "colab": {
      "provenance": [],
      "authorship_tag": "ABX9TyOuPRvMUrjNkn4iQRdsSPLx",
      "include_colab_link": true
    },
    "kernelspec": {
      "name": "python3",
      "display_name": "Python 3"
    },
    "language_info": {
      "name": "python"
    }
  },
  "cells": [
    {
      "cell_type": "markdown",
      "metadata": {
        "id": "view-in-github",
        "colab_type": "text"
      },
      "source": [
        "<a href=\"https://colab.research.google.com/github/ashwinihegde22/python/blob/main/Untitled8.ipynb\" target=\"_parent\"><img src=\"https://colab.research.google.com/assets/colab-badge.svg\" alt=\"Open In Colab\"/></a>"
      ]
    },
    {
      "cell_type": "code",
      "execution_count": 1,
      "metadata": {
        "colab": {
          "base_uri": "https://localhost:8080/"
        },
        "id": "exzHdXEgZfeh",
        "outputId": "b5e1f0bf-c5e1-4aa5-f75f-894c31443616"
      },
      "outputs": [
        {
          "output_type": "stream",
          "name": "stdout",
          "text": [
            "Enter three stringaswini keeerti suchi\n",
            "Name1: aswini\n",
            "Name2: keeerti\n",
            "Name3: suchi\n"
          ]
        }
      ],
      "source": [
        "string1, string2, string3 = input(\"Enter three string\").split()\n",
        "print('Name1:', string1)\n",
        "print('Name2:', string2)\n",
        "print('Name3:', string3)"
      ]
    }
  ]
}