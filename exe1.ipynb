{
  "nbformat": 4,
  "nbformat_minor": 0,
  "metadata": {
    "colab": {
      "provenance": [],
      "collapsed_sections": [],
      "authorship_tag": "ABX9TyPiswNSpReQvkBzNQ3FsQAC",
      "include_colab_link": true
    },
    "kernelspec": {
      "name": "python3",
      "display_name": "Python 3"
    },
    "language_info": {
      "name": "python"
    }
  },
  "cells": [
    {
      "cell_type": "markdown",
      "metadata": {
        "id": "view-in-github",
        "colab_type": "text"
      },
      "source": [
        "<a href=\"https://colab.research.google.com/github/ashwinihegde22/python/blob/main/exe1.ipynb\" target=\"_parent\"><img src=\"https://colab.research.google.com/assets/colab-badge.svg\" alt=\"Open In Colab\"/></a>"
      ]
    },
    {
      "cell_type": "code",
      "execution_count": 1,
      "metadata": {
        "colab": {
          "base_uri": "https://localhost:8080/",
          "height": 104
        },
        "id": "vCBf9jfdMNiN",
        "outputId": "53df3efa-0329-483b-f450-5a07a431e6ba"
      },
      "outputs": [
        {
          "output_type": "display_data",
          "data": {
            "text/plain": [
              "3"
            ]
          },
          "metadata": {}
        },
        {
          "output_type": "display_data",
          "data": {
            "text/plain": [
              "7"
            ]
          },
          "metadata": {}
        },
        {
          "output_type": "display_data",
          "data": {
            "text/plain": [
              "4"
            ]
          },
          "metadata": {}
        },
        {
          "output_type": "display_data",
          "data": {
            "text/plain": [
              "9"
            ]
          },
          "metadata": {}
        },
        {
          "output_type": "display_data",
          "data": {
            "text/plain": [
              "40"
            ]
          },
          "metadata": {}
        }
      ],
      "source": [
        "def disply(*a):\n",
        "  print(a)\n",
        "display(3,7,4,9,40)"
      ]
    },
    {
      "cell_type": "code",
      "source": [
        "def calculation(a,b):\n",
        "  c=a+b\n",
        "  d=a-b\n",
        "  return c,d\n",
        "calculation(5,2)"
      ],
      "metadata": {
        "colab": {
          "base_uri": "https://localhost:8080/"
        },
        "id": "TdRCyOm5NF6X",
        "outputId": "45afb638-3e8c-4fbd-bb23-89f98f43f0db"
      },
      "execution_count": 3,
      "outputs": [
        {
          "output_type": "execute_result",
          "data": {
            "text/plain": [
              "(7, 3)"
            ]
          },
          "metadata": {},
          "execution_count": 3
        }
      ]
    },
    {
      "cell_type": "code",
      "source": [
        "def show_employee(name,salary=9000):\n",
        "  print(\"name:\",name,\"salary\",salary)\n",
        "show_employee('ash', 3000)\n",
        "show_employee('sujata')"
      ],
      "metadata": {
        "colab": {
          "base_uri": "https://localhost:8080/"
        },
        "id": "eSWwWHwXOiZj",
        "outputId": "0f1f949f-54fd-42c1-b2d0-dbe3cdd16724"
      },
      "execution_count": 18,
      "outputs": [
        {
          "output_type": "stream",
          "name": "stdout",
          "text": [
            "name: ash salary 3000\n",
            "name: sujata salary 9000\n"
          ]
        }
      ]
    },
    {
      "cell_type": "code",
      "source": [
        "def outer(a,b):\n",
        "  \n",
        "  def add(a,b):\n",
        "      return a+b\n",
        "  addition=add(a,b)\n",
        "  return addition+5\n",
        "res = outer(2,6)\n",
        "print(res)"
      ],
      "metadata": {
        "colab": {
          "base_uri": "https://localhost:8080/"
        },
        "id": "japtQD7eVwXa",
        "outputId": "69e6c62b-491e-4a71-e32a-08d18fa57233"
      },
      "execution_count": 24,
      "outputs": [
        {
          "output_type": "stream",
          "name": "stdout",
          "text": [
            "13\n"
          ]
        }
      ]
    }
  ]
}