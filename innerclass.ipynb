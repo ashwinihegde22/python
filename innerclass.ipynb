{
  "nbformat": 4,
  "nbformat_minor": 0,
  "metadata": {
    "colab": {
      "provenance": [],
      "collapsed_sections": [],
      "authorship_tag": "ABX9TyPo4Cs0L4w0og1/OjSgZRWH",
      "include_colab_link": true
    },
    "kernelspec": {
      "name": "python3",
      "display_name": "Python 3"
    },
    "language_info": {
      "name": "python"
    }
  },
  "cells": [
    {
      "cell_type": "markdown",
      "metadata": {
        "id": "view-in-github",
        "colab_type": "text"
      },
      "source": [
        "<a href=\"https://colab.research.google.com/github/ashwinihegde22/python/blob/main/innerclass.ipynb\" target=\"_parent\"><img src=\"https://colab.research.google.com/assets/colab-badge.svg\" alt=\"Open In Colab\"/></a>"
      ]
    },
    {
      "cell_type": "code",
      "source": [
        "# create a Color class\n",
        "class Colors:\n",
        "   \n",
        "  # constructor method\n",
        "  def __init__(self):\n",
        "    # object attributes\n",
        "    self.name = 'pink'\n",
        "    self.lg = self.Lightpink()\n",
        "   \n",
        "  def show(self):\n",
        "    print(\"Name:\", self.name)\n",
        "   \n",
        "  # create Lightgreen class\n",
        "  class Lightpink:\n",
        "     def __init__(self):\n",
        "        self.name = 'Light pink'\n",
        "        self.code = '675tff'\n",
        "   \n",
        "     def display(self):\n",
        "        print(\"Name:\", self.name)\n",
        "        print(\"Code:\", self.code)\n",
        " \n",
        "# create Color class object\n",
        "outer = Colors()\n",
        " \n",
        "# method calling\n",
        "outer.show()\n",
        " \n",
        "# create a Lightgreen\n",
        "# inner class object\n",
        "g = outer.lg\n",
        " \n",
        "# inner class method calling\n",
        "g.display()"
      ],
      "metadata": {
        "colab": {
          "base_uri": "https://localhost:8080/"
        },
        "id": "4eLzNYEWwPDN",
        "outputId": "49ec00c8-bfc2-4e3a-b85d-13d09077e4a1"
      },
      "execution_count": 3,
      "outputs": [
        {
          "output_type": "stream",
          "name": "stdout",
          "text": [
            "Name: pink\n",
            "Name: Light pink\n",
            "Code: 675tff\n"
          ]
        }
      ]
    },
    {
      "cell_type": "code",
      "execution_count": null,
      "metadata": {
        "id": "q7A47MJIrGGJ"
      },
      "outputs": [],
      "source": []
    }
  ]
}