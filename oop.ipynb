{
  "nbformat": 4,
  "nbformat_minor": 0,
  "metadata": {
    "colab": {
      "provenance": [],
      "authorship_tag": "ABX9TyN180a3jkU2cwHkTeFURlig",
      "include_colab_link": true
    },
    "kernelspec": {
      "name": "python3",
      "display_name": "Python 3"
    },
    "language_info": {
      "name": "python"
    }
  },
  "cells": [
    {
      "cell_type": "markdown",
      "metadata": {
        "id": "view-in-github",
        "colab_type": "text"
      },
      "source": [
        "<a href=\"https://colab.research.google.com/github/ashwinihegde22/python/blob/main/oop.ipynb\" target=\"_parent\"><img src=\"https://colab.research.google.com/assets/colab-badge.svg\" alt=\"Open In Colab\"/></a>"
      ]
    },
    {
      "cell_type": "code",
      "source": [
        "class student:\n",
        "  stud_id = 187\n",
        "  stud_name = 'ash'\n",
        "student.stud_class = 'x' #add this after printing first two stmt\n",
        "\n",
        "\n",
        "\n",
        "\n",
        "\n",
        "print(student.stud_id)\n",
        "print(student.stud_name) # first only print 2 stmt\n",
        "print(student.stud_class)"
      ],
      "metadata": {
        "colab": {
          "base_uri": "https://localhost:8080/"
        },
        "id": "v0bNah9cZ9jM",
        "outputId": "b947cc7b-6d08-4fb1-e0e8-dc01c6f58314"
      },
      "execution_count": 26,
      "outputs": [
        {
          "output_type": "stream",
          "name": "stdout",
          "text": [
            "187\n",
            "ash\n",
            "x\n"
          ]
        }
      ]
    },
    {
      "cell_type": "code",
      "source": [
        "del student.stud_name"
      ],
      "metadata": {
        "id": "8CRRo3RXdJBL"
      },
      "execution_count": 24,
      "outputs": []
    },
    {
      "cell_type": "code",
      "source": [
        "print('id',student.stud_id,'class',student.stud_class)"
      ],
      "metadata": {
        "colab": {
          "base_uri": "https://localhost:8080/"
        },
        "id": "XUrlR39Sdc8X",
        "outputId": "33cf0dce-a0d2-469b-8597-12d98061eeaf"
      },
      "execution_count": 25,
      "outputs": [
        {
          "output_type": "stream",
          "name": "stdout",
          "text": [
            "id 187 class x\n"
          ]
        }
      ]
    },
    {
      "cell_type": "code",
      "source": [
        "\n",
        "def power1(x, n):\n",
        " \n",
        "    \n",
        "    if (n == 0):\n",
        "        return 1\n",
        " \n",
        "    \n",
        "    if (x == 0):\n",
        "        return 0\n",
        " \n",
        "    \n",
        "    return x * power1(x, n - 1)\n",
        " \n",
        " \n",
        "\n",
        "x = 5\n",
        "n = 4\n",
        " \n",
        "print(power1(x, n))\n",
        "     "
      ],
      "metadata": {
        "colab": {
          "base_uri": "https://localhost:8080/"
        },
        "id": "9mC9vrqHjlxu",
        "outputId": "17651354-dce2-4a16-e017-9f15b3a7c5f2"
      },
      "execution_count": 33,
      "outputs": [
        {
          "output_type": "stream",
          "name": "stdout",
          "text": [
            "625\n"
          ]
        }
      ]
    }
  ]
}