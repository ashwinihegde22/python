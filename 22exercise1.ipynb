{
  "nbformat": 4,
  "nbformat_minor": 0,
  "metadata": {
    "colab": {
      "provenance": [],
      "collapsed_sections": [],
      "authorship_tag": "ABX9TyPr1J08IwROw/zIpaQjZWhT",
      "include_colab_link": true
    },
    "kernelspec": {
      "name": "python3",
      "display_name": "Python 3"
    },
    "language_info": {
      "name": "python"
    }
  },
  "cells": [
    {
      "cell_type": "markdown",
      "metadata": {
        "id": "view-in-github",
        "colab_type": "text"
      },
      "source": [
        "<a href=\"https://colab.research.google.com/github/ashwinihegde22/python/blob/main/22exercise1.ipynb\" target=\"_parent\"><img src=\"https://colab.research.google.com/assets/colab-badge.svg\" alt=\"Open In Colab\"/></a>"
      ]
    },
    {
      "cell_type": "code",
      "execution_count": 1,
      "metadata": {
        "id": "HFeC5RKfcCi5"
      },
      "outputs": [],
      "source": [
        "import numpy as np\n"
      ]
    },
    {
      "cell_type": "code",
      "source": [
        "agelist = [10,5,3,9,53]\n",
        "print(agelist)"
      ],
      "metadata": {
        "colab": {
          "base_uri": "https://localhost:8080/"
        },
        "id": "HNaKGMk9cZ4m",
        "outputId": "e3bdc1bc-19f8-405c-9812-904a7daac7ac"
      },
      "execution_count": 3,
      "outputs": [
        {
          "output_type": "stream",
          "name": "stdout",
          "text": [
            "[10, 5, 3, 9, 53]\n"
          ]
        }
      ]
    },
    {
      "cell_type": "code",
      "source": [
        "ages = np.array(agelist)\n",
        "print(type(ages))\n",
        "print(ages)"
      ],
      "metadata": {
        "colab": {
          "base_uri": "https://localhost:8080/"
        },
        "id": "Bz8Yvjx9c2pe",
        "outputId": "d93a1272-71e3-4c3f-a0f3-088d001f9a60"
      },
      "execution_count": 4,
      "outputs": [
        {
          "output_type": "stream",
          "name": "stdout",
          "text": [
            "<class 'numpy.ndarray'>\n",
            "[10  5  3  9 53]\n"
          ]
        }
      ]
    },
    {
      "cell_type": "code",
      "source": [
        "print(ages)\n",
        "print(\"size:\\t\",ages.size)\n",
        "print(\"shape:\\t\",ages.shape)"
      ],
      "metadata": {
        "colab": {
          "base_uri": "https://localhost:8080/"
        },
        "id": "-7QAF7Jnd4Fp",
        "outputId": "7ec391b1-8598-48c4-acdd-3a9cfbc88845"
      },
      "execution_count": 5,
      "outputs": [
        {
          "output_type": "stream",
          "name": "stdout",
          "text": [
            "[10  5  3  9 53]\n",
            "size:\t 5\n",
            "shape:\t (5,)\n"
          ]
        }
      ]
    },
    {
      "cell_type": "code",
      "source": [
        "zeroArr = np.zeros(5)\n",
        "print(zeroArr)\n",
        "\n"
      ],
      "metadata": {
        "colab": {
          "base_uri": "https://localhost:8080/"
        },
        "id": "l9Unqs0jemqV",
        "outputId": "b8eb800c-ef9a-4641-ed6d-3a5bccace9f6"
      },
      "execution_count": 6,
      "outputs": [
        {
          "output_type": "stream",
          "name": "stdout",
          "text": [
            "[0. 0. 0. 0. 0.]\n"
          ]
        }
      ]
    },
    {
      "cell_type": "code",
      "source": [
        "#Multi - dim\n",
        "\n",
        "weightlist = [65,34,68,54,47]"
      ],
      "metadata": {
        "id": "SVDTJz5RgHlp"
      },
      "execution_count": 7,
      "outputs": []
    },
    {
      "cell_type": "code",
      "source": [
        "people = np.array([agelist,weightlist])\n",
        "print(\"People:\\t\" , people)\n",
        "print(\"Size:\\t\" , people.size)\n",
        "print(\"Shape:\\t\", people.shape)"
      ],
      "metadata": {
        "colab": {
          "base_uri": "https://localhost:8080/"
        },
        "id": "bceek7RXghXr",
        "outputId": "debf0e64-3da4-4af8-e347-c18255f80ad7"
      },
      "execution_count": 9,
      "outputs": [
        {
          "output_type": "stream",
          "name": "stdout",
          "text": [
            "People:\t [[10  5  3  9 53]\n",
            " [65 34 68 54 47]]\n",
            "Size:\t 10\n",
            "Shape:\t (2, 5)\n"
          ]
        }
      ]
    },
    {
      "cell_type": "code",
      "source": [
        "people = people.reshape(10,1)\n",
        "print(\"People:\\t\" , people)\n",
        "print(\"Size:\\t\" , people.size)\n",
        "print(\"Shape:\\t\", people.shape)"
      ],
      "metadata": {
        "colab": {
          "base_uri": "https://localhost:8080/"
        },
        "id": "57KZPWwEiABh",
        "outputId": "ca9701a3-6f15-433e-9c2c-623eba557602"
      },
      "execution_count": 11,
      "outputs": [
        {
          "output_type": "stream",
          "name": "stdout",
          "text": [
            "People:\t [[10]\n",
            " [ 5]\n",
            " [ 3]\n",
            " [ 9]\n",
            " [53]\n",
            " [65]\n",
            " [34]\n",
            " [68]\n",
            " [54]\n",
            " [47]]\n",
            "Size:\t 10\n",
            "Shape:\t (10, 1)\n"
          ]
        }
      ]
    },
    {
      "cell_type": "code",
      "source": [
        "import numpy as np\n",
        "list3 = [7,9,6,33,85,99]\n",
        "task = np.array([list3])\n",
        "print(\"1d array\",task)\n"
      ],
      "metadata": {
        "colab": {
          "base_uri": "https://localhost:8080/"
        },
        "id": "1BGUv0eEiN40",
        "outputId": "19688c57-422f-47f2-d12b-ebfa4e513e92"
      },
      "execution_count": 13,
      "outputs": [
        {
          "output_type": "stream",
          "name": "stdout",
          "text": [
            "1d array [[ 7  9  6 33 85 99]]\n"
          ]
        }
      ]
    },
    {
      "cell_type": "code",
      "source": [
        "task = task.reshape(6,1)\n",
        "print(\"task\",task)"
      ],
      "metadata": {
        "colab": {
          "base_uri": "https://localhost:8080/"
        },
        "id": "ubSeO-chlWZW",
        "outputId": "1b2eb0d9-945d-40dd-ce3c-e11291b0d164"
      },
      "execution_count": 14,
      "outputs": [
        {
          "output_type": "stream",
          "name": "stdout",
          "text": [
            "task [[ 7]\n",
            " [ 9]\n",
            " [ 6]\n",
            " [33]\n",
            " [85]\n",
            " [99]]\n"
          ]
        }
      ]
    },
    {
      "cell_type": "code",
      "source": [
        "a2d = [1,2,4,2,3,0,0,5,1]\n",
        "a2d = np.array(a2d)\n",
        "a2d\n",
        "a2d = a2d.reshape(3,3)\n",
        "a2d"
      ],
      "metadata": {
        "colab": {
          "base_uri": "https://localhost:8080/"
        },
        "id": "cDCepPlnxJbZ",
        "outputId": "a08e3b7f-3a10-43b4-9d18-feb354bef5de"
      },
      "execution_count": 36,
      "outputs": [
        {
          "output_type": "execute_result",
          "data": {
            "text/plain": [
              "array([[1, 2, 4],\n",
              "       [2, 3, 0],\n",
              "       [0, 5, 1]])"
            ]
          },
          "metadata": {},
          "execution_count": 36
        }
      ]
    },
    {
      "cell_type": "code",
      "source": [
        "five_timestable = np.arange(0, 55, 5)\n",
        "five_timestable"
      ],
      "metadata": {
        "colab": {
          "base_uri": "https://localhost:8080/"
        },
        "id": "3BGaCQCEsC8K",
        "outputId": "2ff27e6d-9ac8-4d0b-daa1-be81b938af15"
      },
      "execution_count": 26,
      "outputs": [
        {
          "output_type": "execute_result",
          "data": {
            "text/plain": [
              "array([ 0,  5, 10, 15, 20, 25, 30, 35, 40, 45, 50])"
            ]
          },
          "metadata": {},
          "execution_count": 26
        }
      ]
    },
    {
      "cell_type": "code",
      "source": [
        "fivespaced = np.linspace(0,50,11)\n",
        "print(fivespaced)"
      ],
      "metadata": {
        "colab": {
          "base_uri": "https://localhost:8080/"
        },
        "id": "zUAGF-LHsZ6Z",
        "outputId": "ff65ed80-39cd-409f-e4b0-58bee1bb083e"
      },
      "execution_count": 27,
      "outputs": [
        {
          "output_type": "stream",
          "name": "stdout",
          "text": [
            "[ 0.  5. 10. 15. 20. 25. 30. 35. 40. 45. 50.]\n"
          ]
        }
      ]
    },
    {
      "cell_type": "code",
      "source": [
        "twoAr = np.repeat(2, 10)\n",
        "print(twoAr)"
      ],
      "metadata": {
        "colab": {
          "base_uri": "https://localhost:8080/"
        },
        "id": "_TXC-Z_ysk_6",
        "outputId": "2ceaf25c-5133-4b1c-9597-b6a191f97926"
      },
      "execution_count": 28,
      "outputs": [
        {
          "output_type": "stream",
          "name": "stdout",
          "text": [
            "[2 2 2 2 2 2 2 2 2 2]\n"
          ]
        }
      ]
    },
    {
      "cell_type": "code",
      "source": [
        "identitymatrix = np.eye(5)\n",
        "print(identitymatrix)"
      ],
      "metadata": {
        "colab": {
          "base_uri": "https://localhost:8080/"
        },
        "id": "oY-HOPV5st7l",
        "outputId": "45c42cfa-78e8-45b5-9905-4320d9b57e50"
      },
      "execution_count": 30,
      "outputs": [
        {
          "output_type": "stream",
          "name": "stdout",
          "text": [
            "[[1. 0. 0. 0. 0.]\n",
            " [0. 1. 0. 0. 0.]\n",
            " [0. 0. 1. 0. 0.]\n",
            " [0. 0. 0. 1. 0.]\n",
            " [0. 0. 0. 0. 1.]]\n"
          ]
        }
      ]
    },
    {
      "cell_type": "code",
      "source": [
        "five_timestable"
      ],
      "metadata": {
        "colab": {
          "base_uri": "https://localhost:8080/"
        },
        "id": "zoFJSHtOs2NZ",
        "outputId": "2eb4099e-f6d3-4dc5-823f-638088e187b8"
      },
      "execution_count": 31,
      "outputs": [
        {
          "output_type": "execute_result",
          "data": {
            "text/plain": [
              "array([ 0,  5, 10, 15, 20, 25, 30, 35, 40, 45, 50])"
            ]
          },
          "metadata": {},
          "execution_count": 31
        }
      ]
    },
    {
      "cell_type": "code",
      "source": [
        "print(\"1:\", 2 * five_timestable)\n",
        "print(\"2:\", 10 + five_timestable)\n",
        "print(\"3:\", five_timestable - 1)\n",
        "print(\"4:\", five_timestable/5)\n",
        "print(\"5:\", five_timestable **2)\n",
        "print(\"6:\", five_timestable < 20)"
      ],
      "metadata": {
        "colab": {
          "base_uri": "https://localhost:8080/"
        },
        "id": "gZ0Hc5L-tR0E",
        "outputId": "15d67cf3-e8c5-4245-ef53-bf6335da455d"
      },
      "execution_count": 32,
      "outputs": [
        {
          "output_type": "stream",
          "name": "stdout",
          "text": [
            "1: [  0  10  20  30  40  50  60  70  80  90 100]\n",
            "2: [10 15 20 25 30 35 40 45 50 55 60]\n",
            "3: [-1  4  9 14 19 24 29 34 39 44 49]\n",
            "4: [ 0.  1.  2.  3.  4.  5.  6.  7.  8.  9. 10.]\n",
            "5: [   0   25  100  225  400  625  900 1225 1600 2025 2500]\n",
            "6: [ True  True  True  True False False False False False False False]\n"
          ]
        }
      ]
    },
    {
      "cell_type": "code",
      "source": [
        "fiveslist = list(range(0,5001,5))\n",
        "fiveslist"
      ],
      "metadata": {
        "colab": {
          "base_uri": "https://localhost:8080/"
        },
        "id": "43dcYEK-tk5K",
        "outputId": "8dd78934-d03f-4413-d086-923735b9d524"
      },
      "execution_count": 33,
      "outputs": [
        {
          "output_type": "execute_result",
          "data": {
            "text/plain": [
              "[0,\n",
              " 5,\n",
              " 10,\n",
              " 15,\n",
              " 20,\n",
              " 25,\n",
              " 30,\n",
              " 35,\n",
              " 40,\n",
              " 45,\n",
              " 50,\n",
              " 55,\n",
              " 60,\n",
              " 65,\n",
              " 70,\n",
              " 75,\n",
              " 80,\n",
              " 85,\n",
              " 90,\n",
              " 95,\n",
              " 100,\n",
              " 105,\n",
              " 110,\n",
              " 115,\n",
              " 120,\n",
              " 125,\n",
              " 130,\n",
              " 135,\n",
              " 140,\n",
              " 145,\n",
              " 150,\n",
              " 155,\n",
              " 160,\n",
              " 165,\n",
              " 170,\n",
              " 175,\n",
              " 180,\n",
              " 185,\n",
              " 190,\n",
              " 195,\n",
              " 200,\n",
              " 205,\n",
              " 210,\n",
              " 215,\n",
              " 220,\n",
              " 225,\n",
              " 230,\n",
              " 235,\n",
              " 240,\n",
              " 245,\n",
              " 250,\n",
              " 255,\n",
              " 260,\n",
              " 265,\n",
              " 270,\n",
              " 275,\n",
              " 280,\n",
              " 285,\n",
              " 290,\n",
              " 295,\n",
              " 300,\n",
              " 305,\n",
              " 310,\n",
              " 315,\n",
              " 320,\n",
              " 325,\n",
              " 330,\n",
              " 335,\n",
              " 340,\n",
              " 345,\n",
              " 350,\n",
              " 355,\n",
              " 360,\n",
              " 365,\n",
              " 370,\n",
              " 375,\n",
              " 380,\n",
              " 385,\n",
              " 390,\n",
              " 395,\n",
              " 400,\n",
              " 405,\n",
              " 410,\n",
              " 415,\n",
              " 420,\n",
              " 425,\n",
              " 430,\n",
              " 435,\n",
              " 440,\n",
              " 445,\n",
              " 450,\n",
              " 455,\n",
              " 460,\n",
              " 465,\n",
              " 470,\n",
              " 475,\n",
              " 480,\n",
              " 485,\n",
              " 490,\n",
              " 495,\n",
              " 500,\n",
              " 505,\n",
              " 510,\n",
              " 515,\n",
              " 520,\n",
              " 525,\n",
              " 530,\n",
              " 535,\n",
              " 540,\n",
              " 545,\n",
              " 550,\n",
              " 555,\n",
              " 560,\n",
              " 565,\n",
              " 570,\n",
              " 575,\n",
              " 580,\n",
              " 585,\n",
              " 590,\n",
              " 595,\n",
              " 600,\n",
              " 605,\n",
              " 610,\n",
              " 615,\n",
              " 620,\n",
              " 625,\n",
              " 630,\n",
              " 635,\n",
              " 640,\n",
              " 645,\n",
              " 650,\n",
              " 655,\n",
              " 660,\n",
              " 665,\n",
              " 670,\n",
              " 675,\n",
              " 680,\n",
              " 685,\n",
              " 690,\n",
              " 695,\n",
              " 700,\n",
              " 705,\n",
              " 710,\n",
              " 715,\n",
              " 720,\n",
              " 725,\n",
              " 730,\n",
              " 735,\n",
              " 740,\n",
              " 745,\n",
              " 750,\n",
              " 755,\n",
              " 760,\n",
              " 765,\n",
              " 770,\n",
              " 775,\n",
              " 780,\n",
              " 785,\n",
              " 790,\n",
              " 795,\n",
              " 800,\n",
              " 805,\n",
              " 810,\n",
              " 815,\n",
              " 820,\n",
              " 825,\n",
              " 830,\n",
              " 835,\n",
              " 840,\n",
              " 845,\n",
              " 850,\n",
              " 855,\n",
              " 860,\n",
              " 865,\n",
              " 870,\n",
              " 875,\n",
              " 880,\n",
              " 885,\n",
              " 890,\n",
              " 895,\n",
              " 900,\n",
              " 905,\n",
              " 910,\n",
              " 915,\n",
              " 920,\n",
              " 925,\n",
              " 930,\n",
              " 935,\n",
              " 940,\n",
              " 945,\n",
              " 950,\n",
              " 955,\n",
              " 960,\n",
              " 965,\n",
              " 970,\n",
              " 975,\n",
              " 980,\n",
              " 985,\n",
              " 990,\n",
              " 995,\n",
              " 1000,\n",
              " 1005,\n",
              " 1010,\n",
              " 1015,\n",
              " 1020,\n",
              " 1025,\n",
              " 1030,\n",
              " 1035,\n",
              " 1040,\n",
              " 1045,\n",
              " 1050,\n",
              " 1055,\n",
              " 1060,\n",
              " 1065,\n",
              " 1070,\n",
              " 1075,\n",
              " 1080,\n",
              " 1085,\n",
              " 1090,\n",
              " 1095,\n",
              " 1100,\n",
              " 1105,\n",
              " 1110,\n",
              " 1115,\n",
              " 1120,\n",
              " 1125,\n",
              " 1130,\n",
              " 1135,\n",
              " 1140,\n",
              " 1145,\n",
              " 1150,\n",
              " 1155,\n",
              " 1160,\n",
              " 1165,\n",
              " 1170,\n",
              " 1175,\n",
              " 1180,\n",
              " 1185,\n",
              " 1190,\n",
              " 1195,\n",
              " 1200,\n",
              " 1205,\n",
              " 1210,\n",
              " 1215,\n",
              " 1220,\n",
              " 1225,\n",
              " 1230,\n",
              " 1235,\n",
              " 1240,\n",
              " 1245,\n",
              " 1250,\n",
              " 1255,\n",
              " 1260,\n",
              " 1265,\n",
              " 1270,\n",
              " 1275,\n",
              " 1280,\n",
              " 1285,\n",
              " 1290,\n",
              " 1295,\n",
              " 1300,\n",
              " 1305,\n",
              " 1310,\n",
              " 1315,\n",
              " 1320,\n",
              " 1325,\n",
              " 1330,\n",
              " 1335,\n",
              " 1340,\n",
              " 1345,\n",
              " 1350,\n",
              " 1355,\n",
              " 1360,\n",
              " 1365,\n",
              " 1370,\n",
              " 1375,\n",
              " 1380,\n",
              " 1385,\n",
              " 1390,\n",
              " 1395,\n",
              " 1400,\n",
              " 1405,\n",
              " 1410,\n",
              " 1415,\n",
              " 1420,\n",
              " 1425,\n",
              " 1430,\n",
              " 1435,\n",
              " 1440,\n",
              " 1445,\n",
              " 1450,\n",
              " 1455,\n",
              " 1460,\n",
              " 1465,\n",
              " 1470,\n",
              " 1475,\n",
              " 1480,\n",
              " 1485,\n",
              " 1490,\n",
              " 1495,\n",
              " 1500,\n",
              " 1505,\n",
              " 1510,\n",
              " 1515,\n",
              " 1520,\n",
              " 1525,\n",
              " 1530,\n",
              " 1535,\n",
              " 1540,\n",
              " 1545,\n",
              " 1550,\n",
              " 1555,\n",
              " 1560,\n",
              " 1565,\n",
              " 1570,\n",
              " 1575,\n",
              " 1580,\n",
              " 1585,\n",
              " 1590,\n",
              " 1595,\n",
              " 1600,\n",
              " 1605,\n",
              " 1610,\n",
              " 1615,\n",
              " 1620,\n",
              " 1625,\n",
              " 1630,\n",
              " 1635,\n",
              " 1640,\n",
              " 1645,\n",
              " 1650,\n",
              " 1655,\n",
              " 1660,\n",
              " 1665,\n",
              " 1670,\n",
              " 1675,\n",
              " 1680,\n",
              " 1685,\n",
              " 1690,\n",
              " 1695,\n",
              " 1700,\n",
              " 1705,\n",
              " 1710,\n",
              " 1715,\n",
              " 1720,\n",
              " 1725,\n",
              " 1730,\n",
              " 1735,\n",
              " 1740,\n",
              " 1745,\n",
              " 1750,\n",
              " 1755,\n",
              " 1760,\n",
              " 1765,\n",
              " 1770,\n",
              " 1775,\n",
              " 1780,\n",
              " 1785,\n",
              " 1790,\n",
              " 1795,\n",
              " 1800,\n",
              " 1805,\n",
              " 1810,\n",
              " 1815,\n",
              " 1820,\n",
              " 1825,\n",
              " 1830,\n",
              " 1835,\n",
              " 1840,\n",
              " 1845,\n",
              " 1850,\n",
              " 1855,\n",
              " 1860,\n",
              " 1865,\n",
              " 1870,\n",
              " 1875,\n",
              " 1880,\n",
              " 1885,\n",
              " 1890,\n",
              " 1895,\n",
              " 1900,\n",
              " 1905,\n",
              " 1910,\n",
              " 1915,\n",
              " 1920,\n",
              " 1925,\n",
              " 1930,\n",
              " 1935,\n",
              " 1940,\n",
              " 1945,\n",
              " 1950,\n",
              " 1955,\n",
              " 1960,\n",
              " 1965,\n",
              " 1970,\n",
              " 1975,\n",
              " 1980,\n",
              " 1985,\n",
              " 1990,\n",
              " 1995,\n",
              " 2000,\n",
              " 2005,\n",
              " 2010,\n",
              " 2015,\n",
              " 2020,\n",
              " 2025,\n",
              " 2030,\n",
              " 2035,\n",
              " 2040,\n",
              " 2045,\n",
              " 2050,\n",
              " 2055,\n",
              " 2060,\n",
              " 2065,\n",
              " 2070,\n",
              " 2075,\n",
              " 2080,\n",
              " 2085,\n",
              " 2090,\n",
              " 2095,\n",
              " 2100,\n",
              " 2105,\n",
              " 2110,\n",
              " 2115,\n",
              " 2120,\n",
              " 2125,\n",
              " 2130,\n",
              " 2135,\n",
              " 2140,\n",
              " 2145,\n",
              " 2150,\n",
              " 2155,\n",
              " 2160,\n",
              " 2165,\n",
              " 2170,\n",
              " 2175,\n",
              " 2180,\n",
              " 2185,\n",
              " 2190,\n",
              " 2195,\n",
              " 2200,\n",
              " 2205,\n",
              " 2210,\n",
              " 2215,\n",
              " 2220,\n",
              " 2225,\n",
              " 2230,\n",
              " 2235,\n",
              " 2240,\n",
              " 2245,\n",
              " 2250,\n",
              " 2255,\n",
              " 2260,\n",
              " 2265,\n",
              " 2270,\n",
              " 2275,\n",
              " 2280,\n",
              " 2285,\n",
              " 2290,\n",
              " 2295,\n",
              " 2300,\n",
              " 2305,\n",
              " 2310,\n",
              " 2315,\n",
              " 2320,\n",
              " 2325,\n",
              " 2330,\n",
              " 2335,\n",
              " 2340,\n",
              " 2345,\n",
              " 2350,\n",
              " 2355,\n",
              " 2360,\n",
              " 2365,\n",
              " 2370,\n",
              " 2375,\n",
              " 2380,\n",
              " 2385,\n",
              " 2390,\n",
              " 2395,\n",
              " 2400,\n",
              " 2405,\n",
              " 2410,\n",
              " 2415,\n",
              " 2420,\n",
              " 2425,\n",
              " 2430,\n",
              " 2435,\n",
              " 2440,\n",
              " 2445,\n",
              " 2450,\n",
              " 2455,\n",
              " 2460,\n",
              " 2465,\n",
              " 2470,\n",
              " 2475,\n",
              " 2480,\n",
              " 2485,\n",
              " 2490,\n",
              " 2495,\n",
              " 2500,\n",
              " 2505,\n",
              " 2510,\n",
              " 2515,\n",
              " 2520,\n",
              " 2525,\n",
              " 2530,\n",
              " 2535,\n",
              " 2540,\n",
              " 2545,\n",
              " 2550,\n",
              " 2555,\n",
              " 2560,\n",
              " 2565,\n",
              " 2570,\n",
              " 2575,\n",
              " 2580,\n",
              " 2585,\n",
              " 2590,\n",
              " 2595,\n",
              " 2600,\n",
              " 2605,\n",
              " 2610,\n",
              " 2615,\n",
              " 2620,\n",
              " 2625,\n",
              " 2630,\n",
              " 2635,\n",
              " 2640,\n",
              " 2645,\n",
              " 2650,\n",
              " 2655,\n",
              " 2660,\n",
              " 2665,\n",
              " 2670,\n",
              " 2675,\n",
              " 2680,\n",
              " 2685,\n",
              " 2690,\n",
              " 2695,\n",
              " 2700,\n",
              " 2705,\n",
              " 2710,\n",
              " 2715,\n",
              " 2720,\n",
              " 2725,\n",
              " 2730,\n",
              " 2735,\n",
              " 2740,\n",
              " 2745,\n",
              " 2750,\n",
              " 2755,\n",
              " 2760,\n",
              " 2765,\n",
              " 2770,\n",
              " 2775,\n",
              " 2780,\n",
              " 2785,\n",
              " 2790,\n",
              " 2795,\n",
              " 2800,\n",
              " 2805,\n",
              " 2810,\n",
              " 2815,\n",
              " 2820,\n",
              " 2825,\n",
              " 2830,\n",
              " 2835,\n",
              " 2840,\n",
              " 2845,\n",
              " 2850,\n",
              " 2855,\n",
              " 2860,\n",
              " 2865,\n",
              " 2870,\n",
              " 2875,\n",
              " 2880,\n",
              " 2885,\n",
              " 2890,\n",
              " 2895,\n",
              " 2900,\n",
              " 2905,\n",
              " 2910,\n",
              " 2915,\n",
              " 2920,\n",
              " 2925,\n",
              " 2930,\n",
              " 2935,\n",
              " 2940,\n",
              " 2945,\n",
              " 2950,\n",
              " 2955,\n",
              " 2960,\n",
              " 2965,\n",
              " 2970,\n",
              " 2975,\n",
              " 2980,\n",
              " 2985,\n",
              " 2990,\n",
              " 2995,\n",
              " 3000,\n",
              " 3005,\n",
              " 3010,\n",
              " 3015,\n",
              " 3020,\n",
              " 3025,\n",
              " 3030,\n",
              " 3035,\n",
              " 3040,\n",
              " 3045,\n",
              " 3050,\n",
              " 3055,\n",
              " 3060,\n",
              " 3065,\n",
              " 3070,\n",
              " 3075,\n",
              " 3080,\n",
              " 3085,\n",
              " 3090,\n",
              " 3095,\n",
              " 3100,\n",
              " 3105,\n",
              " 3110,\n",
              " 3115,\n",
              " 3120,\n",
              " 3125,\n",
              " 3130,\n",
              " 3135,\n",
              " 3140,\n",
              " 3145,\n",
              " 3150,\n",
              " 3155,\n",
              " 3160,\n",
              " 3165,\n",
              " 3170,\n",
              " 3175,\n",
              " 3180,\n",
              " 3185,\n",
              " 3190,\n",
              " 3195,\n",
              " 3200,\n",
              " 3205,\n",
              " 3210,\n",
              " 3215,\n",
              " 3220,\n",
              " 3225,\n",
              " 3230,\n",
              " 3235,\n",
              " 3240,\n",
              " 3245,\n",
              " 3250,\n",
              " 3255,\n",
              " 3260,\n",
              " 3265,\n",
              " 3270,\n",
              " 3275,\n",
              " 3280,\n",
              " 3285,\n",
              " 3290,\n",
              " 3295,\n",
              " 3300,\n",
              " 3305,\n",
              " 3310,\n",
              " 3315,\n",
              " 3320,\n",
              " 3325,\n",
              " 3330,\n",
              " 3335,\n",
              " 3340,\n",
              " 3345,\n",
              " 3350,\n",
              " 3355,\n",
              " 3360,\n",
              " 3365,\n",
              " 3370,\n",
              " 3375,\n",
              " 3380,\n",
              " 3385,\n",
              " 3390,\n",
              " 3395,\n",
              " 3400,\n",
              " 3405,\n",
              " 3410,\n",
              " 3415,\n",
              " 3420,\n",
              " 3425,\n",
              " 3430,\n",
              " 3435,\n",
              " 3440,\n",
              " 3445,\n",
              " 3450,\n",
              " 3455,\n",
              " 3460,\n",
              " 3465,\n",
              " 3470,\n",
              " 3475,\n",
              " 3480,\n",
              " 3485,\n",
              " 3490,\n",
              " 3495,\n",
              " 3500,\n",
              " 3505,\n",
              " 3510,\n",
              " 3515,\n",
              " 3520,\n",
              " 3525,\n",
              " 3530,\n",
              " 3535,\n",
              " 3540,\n",
              " 3545,\n",
              " 3550,\n",
              " 3555,\n",
              " 3560,\n",
              " 3565,\n",
              " 3570,\n",
              " 3575,\n",
              " 3580,\n",
              " 3585,\n",
              " 3590,\n",
              " 3595,\n",
              " 3600,\n",
              " 3605,\n",
              " 3610,\n",
              " 3615,\n",
              " 3620,\n",
              " 3625,\n",
              " 3630,\n",
              " 3635,\n",
              " 3640,\n",
              " 3645,\n",
              " 3650,\n",
              " 3655,\n",
              " 3660,\n",
              " 3665,\n",
              " 3670,\n",
              " 3675,\n",
              " 3680,\n",
              " 3685,\n",
              " 3690,\n",
              " 3695,\n",
              " 3700,\n",
              " 3705,\n",
              " 3710,\n",
              " 3715,\n",
              " 3720,\n",
              " 3725,\n",
              " 3730,\n",
              " 3735,\n",
              " 3740,\n",
              " 3745,\n",
              " 3750,\n",
              " 3755,\n",
              " 3760,\n",
              " 3765,\n",
              " 3770,\n",
              " 3775,\n",
              " 3780,\n",
              " 3785,\n",
              " 3790,\n",
              " 3795,\n",
              " 3800,\n",
              " 3805,\n",
              " 3810,\n",
              " 3815,\n",
              " 3820,\n",
              " 3825,\n",
              " 3830,\n",
              " 3835,\n",
              " 3840,\n",
              " 3845,\n",
              " 3850,\n",
              " 3855,\n",
              " 3860,\n",
              " 3865,\n",
              " 3870,\n",
              " 3875,\n",
              " 3880,\n",
              " 3885,\n",
              " 3890,\n",
              " 3895,\n",
              " 3900,\n",
              " 3905,\n",
              " 3910,\n",
              " 3915,\n",
              " 3920,\n",
              " 3925,\n",
              " 3930,\n",
              " 3935,\n",
              " 3940,\n",
              " 3945,\n",
              " 3950,\n",
              " 3955,\n",
              " 3960,\n",
              " 3965,\n",
              " 3970,\n",
              " 3975,\n",
              " 3980,\n",
              " 3985,\n",
              " 3990,\n",
              " 3995,\n",
              " 4000,\n",
              " 4005,\n",
              " 4010,\n",
              " 4015,\n",
              " 4020,\n",
              " 4025,\n",
              " 4030,\n",
              " 4035,\n",
              " 4040,\n",
              " 4045,\n",
              " 4050,\n",
              " 4055,\n",
              " 4060,\n",
              " 4065,\n",
              " 4070,\n",
              " 4075,\n",
              " 4080,\n",
              " 4085,\n",
              " 4090,\n",
              " 4095,\n",
              " 4100,\n",
              " 4105,\n",
              " 4110,\n",
              " 4115,\n",
              " 4120,\n",
              " 4125,\n",
              " 4130,\n",
              " 4135,\n",
              " 4140,\n",
              " 4145,\n",
              " 4150,\n",
              " 4155,\n",
              " 4160,\n",
              " 4165,\n",
              " 4170,\n",
              " 4175,\n",
              " 4180,\n",
              " 4185,\n",
              " 4190,\n",
              " 4195,\n",
              " 4200,\n",
              " 4205,\n",
              " 4210,\n",
              " 4215,\n",
              " 4220,\n",
              " 4225,\n",
              " 4230,\n",
              " 4235,\n",
              " 4240,\n",
              " 4245,\n",
              " 4250,\n",
              " 4255,\n",
              " 4260,\n",
              " 4265,\n",
              " 4270,\n",
              " 4275,\n",
              " 4280,\n",
              " 4285,\n",
              " 4290,\n",
              " 4295,\n",
              " 4300,\n",
              " 4305,\n",
              " 4310,\n",
              " 4315,\n",
              " 4320,\n",
              " 4325,\n",
              " 4330,\n",
              " 4335,\n",
              " 4340,\n",
              " 4345,\n",
              " 4350,\n",
              " 4355,\n",
              " 4360,\n",
              " 4365,\n",
              " 4370,\n",
              " 4375,\n",
              " 4380,\n",
              " 4385,\n",
              " 4390,\n",
              " 4395,\n",
              " 4400,\n",
              " 4405,\n",
              " 4410,\n",
              " 4415,\n",
              " 4420,\n",
              " 4425,\n",
              " 4430,\n",
              " 4435,\n",
              " 4440,\n",
              " 4445,\n",
              " 4450,\n",
              " 4455,\n",
              " 4460,\n",
              " 4465,\n",
              " 4470,\n",
              " 4475,\n",
              " 4480,\n",
              " 4485,\n",
              " 4490,\n",
              " 4495,\n",
              " 4500,\n",
              " 4505,\n",
              " 4510,\n",
              " 4515,\n",
              " 4520,\n",
              " 4525,\n",
              " 4530,\n",
              " 4535,\n",
              " 4540,\n",
              " 4545,\n",
              " 4550,\n",
              " 4555,\n",
              " 4560,\n",
              " 4565,\n",
              " 4570,\n",
              " 4575,\n",
              " 4580,\n",
              " 4585,\n",
              " 4590,\n",
              " 4595,\n",
              " 4600,\n",
              " 4605,\n",
              " 4610,\n",
              " 4615,\n",
              " 4620,\n",
              " 4625,\n",
              " 4630,\n",
              " 4635,\n",
              " 4640,\n",
              " 4645,\n",
              " 4650,\n",
              " 4655,\n",
              " 4660,\n",
              " 4665,\n",
              " 4670,\n",
              " 4675,\n",
              " 4680,\n",
              " 4685,\n",
              " 4690,\n",
              " 4695,\n",
              " 4700,\n",
              " 4705,\n",
              " 4710,\n",
              " 4715,\n",
              " 4720,\n",
              " 4725,\n",
              " 4730,\n",
              " 4735,\n",
              " 4740,\n",
              " 4745,\n",
              " 4750,\n",
              " 4755,\n",
              " 4760,\n",
              " 4765,\n",
              " 4770,\n",
              " 4775,\n",
              " 4780,\n",
              " 4785,\n",
              " 4790,\n",
              " 4795,\n",
              " 4800,\n",
              " 4805,\n",
              " 4810,\n",
              " 4815,\n",
              " 4820,\n",
              " 4825,\n",
              " 4830,\n",
              " 4835,\n",
              " 4840,\n",
              " 4845,\n",
              " 4850,\n",
              " 4855,\n",
              " 4860,\n",
              " 4865,\n",
              " 4870,\n",
              " 4875,\n",
              " 4880,\n",
              " 4885,\n",
              " 4890,\n",
              " 4895,\n",
              " 4900,\n",
              " 4905,\n",
              " 4910,\n",
              " 4915,\n",
              " 4920,\n",
              " 4925,\n",
              " 4930,\n",
              " 4935,\n",
              " 4940,\n",
              " 4945,\n",
              " 4950,\n",
              " 4955,\n",
              " 4960,\n",
              " 4965,\n",
              " 4970,\n",
              " 4975,\n",
              " 4980,\n",
              " 4985,\n",
              " 4990,\n",
              " 4995,\n",
              " ...]"
            ]
          },
          "metadata": {},
          "execution_count": 33
        }
      ]
    },
    {
      "cell_type": "code",
      "source": [
        "five_times_tablelge = np.arange(0,5001,5)\n",
        "five_times_tablelge"
      ],
      "metadata": {
        "colab": {
          "base_uri": "https://localhost:8080/"
        },
        "id": "GpjqNPyIuGJB",
        "outputId": "7f88754f-03b8-4bf8-c3cb-abb47f0a2101"
      },
      "execution_count": 34,
      "outputs": [
        {
          "output_type": "execute_result",
          "data": {
            "text/plain": [
              "array([   0,    5,   10, ..., 4990, 4995, 5000])"
            ]
          },
          "metadata": {},
          "execution_count": 34
        }
      ]
    },
    {
      "cell_type": "code",
      "source": [
        "%timeit five_times_tablelge + 5"
      ],
      "metadata": {
        "colab": {
          "base_uri": "https://localhost:8080/"
        },
        "id": "V4TI-rIOttT0",
        "outputId": "d66f2b36-1556-4fd6-e117-53b474810a02"
      },
      "execution_count": 35,
      "outputs": [
        {
          "output_type": "stream",
          "name": "stdout",
          "text": [
            "1.37 µs ± 11.4 ns per loop (mean ± std. dev. of 7 runs, 1000000 loops each)\n"
          ]
        }
      ]
    },
    {
      "cell_type": "code",
      "source": [
        "%timeit [e + 5 for e in fiveslist]"
      ],
      "metadata": {
        "colab": {
          "base_uri": "https://localhost:8080/"
        },
        "id": "adBX8ZSr56FV",
        "outputId": "83cdae59-b58a-4686-a224-f4b088b25305"
      },
      "execution_count": 38,
      "outputs": [
        {
          "output_type": "stream",
          "name": "stdout",
          "text": [
            "59.9 µs ± 973 ns per loop (mean ± std. dev. of 7 runs, 10000 loops each)\n"
          ]
        }
      ]
    },
    {
      "cell_type": "code",
      "source": [
        "word = np.array([\"ten\", \"nine\", \"eight\", \"seven\", \"six\"])\n",
        "\n",
        "print(np.isin(word, 'e'))\n",
        "\n",
        "print(\"e\" in word)\n",
        "[\"e\" in word1 for word1 in word]"
      ],
      "metadata": {
        "colab": {
          "base_uri": "https://localhost:8080/"
        },
        "id": "MfY4aBdj6ImP",
        "outputId": "8002d832-6b05-4097-bde2-07ce2494e0a3"
      },
      "execution_count": 40,
      "outputs": [
        {
          "output_type": "stream",
          "name": "stdout",
          "text": [
            "[False False False False False]\n",
            "False\n"
          ]
        },
        {
          "output_type": "execute_result",
          "data": {
            "text/plain": [
              "[True, True, True, True, False]"
            ]
          },
          "metadata": {},
          "execution_count": 40
        }
      ]
    },
    {
      "cell_type": "code",
      "source": [
        "people.shape = (2, 5)\n",
        "print(people, \"\\n\")\n",
        "print(people.T)"
      ],
      "metadata": {
        "colab": {
          "base_uri": "https://localhost:8080/"
        },
        "id": "G4_tZ_vd6vjy",
        "outputId": "7a26aa5b-f3e7-4f5d-b6b6-337d90434e74"
      },
      "execution_count": 42,
      "outputs": [
        {
          "output_type": "stream",
          "name": "stdout",
          "text": [
            "[[10  5  3  9 53]\n",
            " [65 34 68 54 47]] \n",
            "\n",
            "[[10 65]\n",
            " [ 5 34]\n",
            " [ 3 68]\n",
            " [ 9 54]\n",
            " [53 47]]\n"
          ]
        }
      ]
    },
    {
      "cell_type": "code",
      "source": [
        "people.dtype"
      ],
      "metadata": {
        "colab": {
          "base_uri": "https://localhost:8080/"
        },
        "id": "hiAZUMjC6_nT",
        "outputId": "542f0153-baa6-4bf2-91f9-850fcdddf81d"
      },
      "execution_count": 43,
      "outputs": [
        {
          "output_type": "execute_result",
          "data": {
            "text/plain": [
              "dtype('int64')"
            ]
          },
          "metadata": {},
          "execution_count": 43
        }
      ]
    },
    {
      "cell_type": "code",
      "source": [
        "ages_with_strings = np.array([10, 5, 8, '32', '65', '43'])\n",
        "ages_with_strings"
      ],
      "metadata": {
        "colab": {
          "base_uri": "https://localhost:8080/"
        },
        "id": "rGnGKsUC7K3n",
        "outputId": "180226b6-5628-4c3f-f02e-bdc26d641b3f"
      },
      "execution_count": 44,
      "outputs": [
        {
          "output_type": "execute_result",
          "data": {
            "text/plain": [
              "array(['10', '5', '8', '32', '65', '43'], dtype='<U21')"
            ]
          },
          "metadata": {},
          "execution_count": 44
        }
      ]
    },
    {
      "cell_type": "code",
      "source": [
        "ages_with_strings = np.array([10, 5, 8, '32', '65', '43'], dtype='int32')\n",
        "ages_with_strings"
      ],
      "metadata": {
        "colab": {
          "base_uri": "https://localhost:8080/"
        },
        "id": "I-RIDo0i7bSU",
        "outputId": "9b3096e6-b8d1-4b95-f6d3-3bb35dbb4ff7"
      },
      "execution_count": 45,
      "outputs": [
        {
          "output_type": "execute_result",
          "data": {
            "text/plain": [
              "array([10,  5,  8, 32, 65, 43], dtype=int32)"
            ]
          },
          "metadata": {},
          "execution_count": 45
        }
      ]
    },
    {
      "cell_type": "code",
      "source": [
        "ages_with_strings = np.array([10, 5, 8, '32', '65', '43'])\n",
        "print(ages_with_strings)\n"
      ],
      "metadata": {
        "colab": {
          "base_uri": "https://localhost:8080/"
        },
        "id": "h8VvDw0r7iIn",
        "outputId": "5c4a6cd3-3daa-4b40-c933-05585b6bf71a"
      },
      "execution_count": 46,
      "outputs": [
        {
          "output_type": "stream",
          "name": "stdout",
          "text": [
            "['10' '5' '8' '32' '65' '43']\n"
          ]
        }
      ]
    },
    {
      "cell_type": "code",
      "source": [
        "ages_with_strings.dtype = 'int32'\n",
        "print(ages_with_strings)"
      ],
      "metadata": {
        "colab": {
          "base_uri": "https://localhost:8080/"
        },
        "id": "X3IUCabO7puE",
        "outputId": "cc399cea-2648-4f50-dd1d-904854e9acfd"
      },
      "execution_count": 50,
      "outputs": [
        {
          "output_type": "stream",
          "name": "stdout",
          "text": [
            "[49 48  0  0  0  0  0  0  0  0  0  0  0  0  0  0  0  0  0  0  0 53  0  0\n",
            "  0  0  0  0  0  0  0  0  0  0  0  0  0  0  0  0  0  0 56  0  0  0  0  0\n",
            "  0  0  0  0  0  0  0  0  0  0  0  0  0  0  0 51 50  0  0  0  0  0  0  0\n",
            "  0  0  0  0  0  0  0  0  0  0  0  0 54 53  0  0  0  0  0  0  0  0  0  0\n",
            "  0  0  0  0  0  0  0  0  0 52 51  0  0  0  0  0  0  0  0  0  0  0  0  0\n",
            "  0  0  0  0  0  0]\n"
          ]
        }
      ]
    },
    {
      "cell_type": "code",
      "source": [
        "ages_with_strings.size"
      ],
      "metadata": {
        "colab": {
          "base_uri": "https://localhost:8080/"
        },
        "id": "ajfg6B8S745M",
        "outputId": "f91cd155-072f-4bea-95f7-e67b99e8f5ba"
      },
      "execution_count": 51,
      "outputs": [
        {
          "output_type": "execute_result",
          "data": {
            "text/plain": [
              "126"
            ]
          },
          "metadata": {},
          "execution_count": 51
        }
      ]
    },
    {
      "cell_type": "code",
      "source": [
        "ages_with_strings.size/21"
      ],
      "metadata": {
        "colab": {
          "base_uri": "https://localhost:8080/"
        },
        "id": "F_uz5GWP7-1E",
        "outputId": "3c3629ba-27a0-43cf-99a6-bab245ff061d"
      },
      "execution_count": 52,
      "outputs": [
        {
          "output_type": "execute_result",
          "data": {
            "text/plain": [
              "6.0"
            ]
          },
          "metadata": {},
          "execution_count": 52
        }
      ]
    },
    {
      "cell_type": "code",
      "source": [
        "np.array([10, 5, 8, '32', '65', '43']).size"
      ],
      "metadata": {
        "colab": {
          "base_uri": "https://localhost:8080/"
        },
        "id": "3FTOJEvw8FJM",
        "outputId": "cb8e1806-703e-4789-cd5a-8f3121cc4c47"
      },
      "execution_count": 53,
      "outputs": [
        {
          "output_type": "execute_result",
          "data": {
            "text/plain": [
              "6"
            ]
          },
          "metadata": {},
          "execution_count": 53
        }
      ]
    },
    {
      "cell_type": "code",
      "source": [
        "ages_with_strings = np.array([10, 5, 8, '32', '65', '43'])\n",
        "print(ages_with_strings)\n",
        "print(ages_with_strings.astype('int32'))"
      ],
      "metadata": {
        "colab": {
          "base_uri": "https://localhost:8080/"
        },
        "id": "VYUw6deu8McB",
        "outputId": "08bc5588-be5e-4fef-9825-5752273342d0"
      },
      "execution_count": 54,
      "outputs": [
        {
          "output_type": "stream",
          "name": "stdout",
          "text": [
            "['10' '5' '8' '32' '65' '43']\n",
            "[10  5  8 32 65 43]\n"
          ]
        }
      ]
    },
    {
      "cell_type": "code",
      "source": [
        "\n",
        "ex = np. array(['1.4', '2.60', '3.90'])\n",
        "y = ex. astype(np. float)\n",
        "print(y) "
      ],
      "metadata": {
        "colab": {
          "base_uri": "https://localhost:8080/"
        },
        "id": "_Vu_cE5O9kNg",
        "outputId": "72af1703-0228-413d-fa39-fb400fe6a44e"
      },
      "execution_count": 62,
      "outputs": [
        {
          "output_type": "stream",
          "name": "stdout",
          "text": [
            "[1.4 2.6 3.9]\n"
          ]
        },
        {
          "output_type": "stream",
          "name": "stderr",
          "text": [
            "/usr/local/lib/python3.7/dist-packages/ipykernel_launcher.py:2: DeprecationWarning: `np.float` is a deprecated alias for the builtin `float`. To silence this warning, use `float` by itself. Doing this will not modify any behavior and is safe. If you specifically wanted the numpy scalar type, use `np.float64` here.\n",
            "Deprecated in NumPy 1.20; for more details and guidance: https://numpy.org/devdocs/release/1.20.0-notes.html#deprecations\n",
            "  \n"
          ]
        }
      ]
    },
    {
      "cell_type": "code",
      "source": [
        "\n",
        "\n",
        "arr = np.array([[15, 2, 30], [48, 35, 96]])\n",
        "\n",
        "print(f'Original Array:\\n{arr}')\n",
        "\n",
        "arr_transpose = arr.transpose()\n",
        "\n",
        "print(f'Transposed Array:\\n{arr_transpose}')"
      ],
      "metadata": {
        "colab": {
          "base_uri": "https://localhost:8080/"
        },
        "id": "0v1Yc47J-n00",
        "outputId": "77ab1fce-b775-41e5-9e91-bea7c3a15d43"
      },
      "execution_count": 65,
      "outputs": [
        {
          "output_type": "stream",
          "name": "stdout",
          "text": [
            "Original Array:\n",
            "{arr}\n",
            "Transposed Array:\n",
            "{arr_transpose}\n"
          ]
        }
      ]
    },
    {
      "cell_type": "code",
      "source": [
        "myarray = np.array([10, 80, 91, 5, 0, 0])\n",
        "print(f\"My array is: \\n{myarray}\")\n",
        "\n",
        "myarray = myarray.astype(dtype=bool)\n",
        "print(f\"My boolean array is: \\n{myarray}\")"
      ],
      "metadata": {
        "colab": {
          "base_uri": "https://localhost:8080/"
        },
        "id": "UgtDdjCGBmYG",
        "outputId": "f32c081f-eee1-4111-fd02-444af752cd13"
      },
      "execution_count": 67,
      "outputs": [
        {
          "output_type": "stream",
          "name": "stdout",
          "text": [
            "My array is: \n",
            "[10 80 91  5  0  0]\n",
            "My boolean array is: \n",
            "[ True  True  True  True False False]\n"
          ]
        }
      ]
    },
    {
      "cell_type": "code",
      "source": [
        "five_timestable"
      ],
      "metadata": {
        "colab": {
          "base_uri": "https://localhost:8080/"
        },
        "id": "RMW4GBx9B_K8",
        "outputId": "e2868eb3-1e77-42a2-c77b-e4c59e249b48"
      },
      "execution_count": 68,
      "outputs": [
        {
          "output_type": "execute_result",
          "data": {
            "text/plain": [
              "array([ 0,  5, 10, 15, 20, 25, 30, 35, 40, 45, 50])"
            ]
          },
          "metadata": {},
          "execution_count": 68
        }
      ]
    },
    {
      "cell_type": "code",
      "source": [
        "five_timestable[0]"
      ],
      "metadata": {
        "colab": {
          "base_uri": "https://localhost:8080/"
        },
        "id": "5vnIeiEyCIDi",
        "outputId": "6fc79779-228f-4c53-af12-2fabbcdd6dff"
      },
      "execution_count": 70,
      "outputs": [
        {
          "output_type": "execute_result",
          "data": {
            "text/plain": [
              "0"
            ]
          },
          "metadata": {},
          "execution_count": 70
        }
      ]
    },
    {
      "cell_type": "code",
      "source": [
        "five_timestable[-11]"
      ],
      "metadata": {
        "colab": {
          "base_uri": "https://localhost:8080/"
        },
        "id": "O6swEvMHCPWD",
        "outputId": "8131cd89-32a4-42fb-9edd-e01fae9b870a"
      },
      "execution_count": 73,
      "outputs": [
        {
          "output_type": "execute_result",
          "data": {
            "text/plain": [
              "0"
            ]
          },
          "metadata": {},
          "execution_count": 73
        }
      ]
    },
    {
      "cell_type": "code",
      "source": [
        "five_timestable[:4]"
      ],
      "metadata": {
        "colab": {
          "base_uri": "https://localhost:8080/"
        },
        "id": "BJCA9VL4CcAp",
        "outputId": "8235fa47-f7da-475d-dfe5-cae5903ff4c4"
      },
      "execution_count": 74,
      "outputs": [
        {
          "output_type": "execute_result",
          "data": {
            "text/plain": [
              "array([ 0,  5, 10, 15])"
            ]
          },
          "metadata": {},
          "execution_count": 74
        }
      ]
    },
    {
      "cell_type": "code",
      "source": [
        "five_timestable[4:]"
      ],
      "metadata": {
        "colab": {
          "base_uri": "https://localhost:8080/"
        },
        "id": "Jdudldy8Ci0B",
        "outputId": "0e3bf68e-77d1-4403-8572-520c2c93c47e"
      },
      "execution_count": 75,
      "outputs": [
        {
          "output_type": "execute_result",
          "data": {
            "text/plain": [
              "array([20, 25, 30, 35, 40, 45, 50])"
            ]
          },
          "metadata": {},
          "execution_count": 75
        }
      ]
    },
    {
      "cell_type": "code",
      "source": [
        "print(people)\n",
        "people[:3, :3]"
      ],
      "metadata": {
        "colab": {
          "base_uri": "https://localhost:8080/"
        },
        "id": "i-Ug4l-hCxuP",
        "outputId": "1bc94667-ac96-40fb-e9d0-c6c4cbcadc76"
      },
      "execution_count": 76,
      "outputs": [
        {
          "output_type": "stream",
          "name": "stdout",
          "text": [
            "[[10  5  3  9 53]\n",
            " [65 34 68 54 47]]\n"
          ]
        },
        {
          "output_type": "execute_result",
          "data": {
            "text/plain": [
              "array([[10,  5,  3],\n",
              "       [65, 34, 68]])"
            ]
          },
          "metadata": {},
          "execution_count": 76
        }
      ]
    },
    {
      "cell_type": "code",
      "source": [
        "np.zeros(6)"
      ],
      "metadata": {
        "colab": {
          "base_uri": "https://localhost:8080/"
        },
        "id": "YcC3gMJ7EWxb",
        "outputId": "663d7e3b-81a7-4b19-be7b-c6be2b17e425"
      },
      "execution_count": 77,
      "outputs": [
        {
          "output_type": "execute_result",
          "data": {
            "text/plain": [
              "array([0., 0., 0., 0., 0., 0.])"
            ]
          },
          "metadata": {},
          "execution_count": 77
        }
      ]
    },
    {
      "cell_type": "code",
      "source": [
        "np.repeat(2,20)"
      ],
      "metadata": {
        "colab": {
          "base_uri": "https://localhost:8080/"
        },
        "id": "QYmuyEVWFHDD",
        "outputId": "d5dddda1-50da-4eb6-d8c8-2833122bbac1"
      },
      "execution_count": 78,
      "outputs": [
        {
          "output_type": "execute_result",
          "data": {
            "text/plain": [
              "array([2, 2, 2, 2, 2, 2, 2, 2, 2, 2, 2, 2, 2, 2, 2, 2, 2, 2, 2, 2])"
            ]
          },
          "metadata": {},
          "execution_count": 78
        }
      ]
    },
    {
      "cell_type": "code",
      "source": [
        "ar_num = np.arange(0,6.28,0.1)\n",
        "ar_num"
      ],
      "metadata": {
        "colab": {
          "base_uri": "https://localhost:8080/"
        },
        "id": "jGAWp7E4HCKs",
        "outputId": "af2bbe46-55fa-40fc-8e6d-a1774a2bd88c"
      },
      "execution_count": 81,
      "outputs": [
        {
          "output_type": "execute_result",
          "data": {
            "text/plain": [
              "array([0. , 0.1, 0.2, 0.3, 0.4, 0.5, 0.6, 0.7, 0.8, 0.9, 1. , 1.1, 1.2,\n",
              "       1.3, 1.4, 1.5, 1.6, 1.7, 1.8, 1.9, 2. , 2.1, 2.2, 2.3, 2.4, 2.5,\n",
              "       2.6, 2.7, 2.8, 2.9, 3. , 3.1, 3.2, 3.3, 3.4, 3.5, 3.6, 3.7, 3.8,\n",
              "       3.9, 4. , 4.1, 4.2, 4.3, 4.4, 4.5, 4.6, 4.7, 4.8, 4.9, 5. , 5.1,\n",
              "       5.2, 5.3, 5.4, 5.5, 5.6, 5.7, 5.8, 5.9, 6. , 6.1, 6.2])"
            ]
          },
          "metadata": {},
          "execution_count": 81
        }
      ]
    },
    {
      "cell_type": "code",
      "source": [
        "print(ar_num[0:5])\n",
        "\n",
        "\n"
      ],
      "metadata": {
        "colab": {
          "base_uri": "https://localhost:8080/"
        },
        "id": "04_2OA73Ix-V",
        "outputId": "6bea4cd1-8a98-4500-f1ae-2f2e21132cd3"
      },
      "execution_count": 100,
      "outputs": [
        {
          "output_type": "stream",
          "name": "stdout",
          "text": [
            "[0.  0.1 0.2 0.3 0.4]\n"
          ]
        }
      ]
    },
    {
      "cell_type": "code",
      "source": [],
      "metadata": {
        "id": "_xLNZRERQE3K"
      },
      "execution_count": null,
      "outputs": []
    },
    {
      "cell_type": "code",
      "source": [
        "\n",
        "\n",
        "#5.Get the last 3 values\n",
        "print(ar_num[-3:])\n"
      ],
      "metadata": {
        "colab": {
          "base_uri": "https://localhost:8080/"
        },
        "outputId": "80e2db83-be58-4091-b113-80b92729f7c5",
        "id": "pSoohC0mQIqd"
      },
      "execution_count": 102,
      "outputs": [
        {
          "output_type": "stream",
          "name": "stdout",
          "text": [
            "[6.  6.1 6.2]\n"
          ]
        }
      ]
    },
    {
      "cell_type": "code",
      "source": [
        "print(ar_num[3])\n",
        "print(ar_num[6])"
      ],
      "metadata": {
        "colab": {
          "base_uri": "https://localhost:8080/"
        },
        "id": "U6UZIDu8QkHc",
        "outputId": "69a0dcdd-c33d-49cb-edaa-9abc77e86fcc"
      },
      "execution_count": 103,
      "outputs": [
        {
          "output_type": "stream",
          "name": "stdout",
          "text": [
            "0.30000000000000004\n",
            "0.6000000000000001\n"
          ]
        }
      ]
    },
    {
      "cell_type": "code",
      "source": [
        "reverse_fivetimestable = np.flip(five_timestable)\n",
        "reverse_fivetimestable"
      ],
      "metadata": {
        "colab": {
          "base_uri": "https://localhost:8080/"
        },
        "id": "7nibkpCSIzSW",
        "outputId": "9f142bbb-2d50-4c8d-ed39-45ed72a82415"
      },
      "execution_count": 84,
      "outputs": [
        {
          "output_type": "execute_result",
          "data": {
            "text/plain": [
              "array([50, 45, 40, 35, 30, 25, 20, 15, 10,  5,  0])"
            ]
          },
          "metadata": {},
          "execution_count": 84
        }
      ]
    },
    {
      "cell_type": "code",
      "source": [
        "reverse_fivetimestable = five_timestable[-1::-1]\n",
        "print(reverse_fivetimestable)\n",
        "five_timestable"
      ],
      "metadata": {
        "colab": {
          "base_uri": "https://localhost:8080/"
        },
        "id": "ivx5sgU7JhvR",
        "outputId": "4d698d36-590a-4199-a8fe-566c30b71f3d"
      },
      "execution_count": 85,
      "outputs": [
        {
          "output_type": "stream",
          "name": "stdout",
          "text": [
            "[50 45 40 35 30 25 20 15 10  5  0]\n"
          ]
        },
        {
          "output_type": "execute_result",
          "data": {
            "text/plain": [
              "array([ 0,  5, 10, 15, 20, 25, 30, 35, 40, 45, 50])"
            ]
          },
          "metadata": {},
          "execution_count": 85
        }
      ]
    },
    {
      "cell_type": "code",
      "source": [
        "five_timestable[0::3]"
      ],
      "metadata": {
        "colab": {
          "base_uri": "https://localhost:8080/"
        },
        "id": "VKPzeoqgJ8tK",
        "outputId": "47ea4f9c-867b-4e08-acde-7ace40bb50f0"
      },
      "execution_count": 86,
      "outputs": [
        {
          "output_type": "execute_result",
          "data": {
            "text/plain": [
              "array([ 0, 15, 30, 45])"
            ]
          },
          "metadata": {},
          "execution_count": 86
        }
      ]
    },
    {
      "cell_type": "code",
      "source": [
        "ar = [1,2,3,4,5,66,77,76,87]\n",
        "ar = np.flip(ar)\n",
        "ar"
      ],
      "metadata": {
        "colab": {
          "base_uri": "https://localhost:8080/"
        },
        "id": "hu5_IO5YKGpv",
        "outputId": "010dde82-1cac-4898-cf64-b9ba63872f66"
      },
      "execution_count": 105,
      "outputs": [
        {
          "output_type": "execute_result",
          "data": {
            "text/plain": [
              "array([87, 76, 77, 66,  5,  4,  3,  2,  1])"
            ]
          },
          "metadata": {},
          "execution_count": 105
        }
      ]
    },
    {
      "cell_type": "code",
      "source": [
        "print(ar[0::4])"
      ],
      "metadata": {
        "colab": {
          "base_uri": "https://localhost:8080/"
        },
        "id": "FhZynNEaKG4o",
        "outputId": "1724f4c0-544f-4e40-b094-bb4dc5b4f339"
      },
      "execution_count": 106,
      "outputs": [
        {
          "output_type": "stream",
          "name": "stdout",
          "text": [
            "[87  5  1]\n"
          ]
        }
      ]
    },
    {
      "cell_type": "code",
      "source": [
        "print(ar[-1::-2])"
      ],
      "metadata": {
        "colab": {
          "base_uri": "https://localhost:8080/"
        },
        "id": "5YNYALoEKHGs",
        "outputId": "09e5bc51-fa2a-44ca-c09a-1e969f79ad0c"
      },
      "execution_count": 107,
      "outputs": [
        {
          "output_type": "stream",
          "name": "stdout",
          "text": [
            "[ 1  3  5 77 87]\n"
          ]
        }
      ]
    },
    {
      "cell_type": "code",
      "source": [
        "np.array([1.65432, 5.98765]).round(2)"
      ],
      "metadata": {
        "colab": {
          "base_uri": "https://localhost:8080/"
        },
        "id": "nKw4xlCVKHcF",
        "outputId": "b05f2bed-6a74-466f-96b2-07dd9409f02e"
      },
      "execution_count": 87,
      "outputs": [
        {
          "output_type": "execute_result",
          "data": {
            "text/plain": [
              "array([1.65, 5.99])"
            ]
          },
          "metadata": {},
          "execution_count": 87
        }
      ]
    },
    {
      "cell_type": "code",
      "source": [
        "nums = np.arange(0, 4, 0.2555)\n",
        "nums"
      ],
      "metadata": {
        "colab": {
          "base_uri": "https://localhost:8080/"
        },
        "id": "TwvC3p3KKQWo",
        "outputId": "eeaabb01-654e-42c2-a12a-024710e0dc28"
      },
      "execution_count": 89,
      "outputs": [
        {
          "output_type": "execute_result",
          "data": {
            "text/plain": [
              "array([0.    , 0.2555, 0.511 , 0.7665, 1.022 , 1.2775, 1.533 , 1.7885,\n",
              "       2.044 , 2.2995, 2.555 , 2.8105, 3.066 , 3.3215, 3.577 , 3.8325])"
            ]
          },
          "metadata": {},
          "execution_count": 89
        }
      ]
    },
    {
      "cell_type": "code",
      "source": [
        "print(\"min = \", np.min(nums).round(2))\n",
        "print(\"max = \", np.max(nums).round(2))\n",
        "print(\"sum = \", np.sum(nums).round(2))\n",
        "print(\"mean = \", np.mean(nums).round(2))\n",
        "print(\"median = \", np.median(nums).round(2))\n",
        "print(\"var = \", np.var(nums).round(2))\n",
        "print(\"std = \", np.std(nums).round(2))"
      ],
      "metadata": {
        "colab": {
          "base_uri": "https://localhost:8080/"
        },
        "id": "L4C1u4gMKXsb",
        "outputId": "6c5134f1-f6f4-4525-8fa4-aad66f87993c"
      },
      "execution_count": 90,
      "outputs": [
        {
          "output_type": "stream",
          "name": "stdout",
          "text": [
            "min =  0.0\n",
            "max =  3.83\n",
            "sum =  30.66\n",
            "mean =  1.92\n",
            "median =  1.92\n",
            "var =  1.39\n",
            "std =  1.18\n"
          ]
        }
      ]
    },
    {
      "cell_type": "code",
      "source": [
        "flip = np.random.choice([0,1], 10)\n",
        "flip"
      ],
      "metadata": {
        "colab": {
          "base_uri": "https://localhost:8080/"
        },
        "id": "q2GFtT07KpUD",
        "outputId": "5005798b-60c1-4126-b893-993473cca8a3"
      },
      "execution_count": 91,
      "outputs": [
        {
          "output_type": "execute_result",
          "data": {
            "text/plain": [
              "array([1, 0, 1, 0, 1, 1, 1, 0, 0, 1])"
            ]
          },
          "metadata": {},
          "execution_count": 91
        }
      ]
    },
    {
      "cell_type": "code",
      "source": [
        "np.random.rand(10,20,9)"
      ],
      "metadata": {
        "colab": {
          "base_uri": "https://localhost:8080/"
        },
        "id": "jYCU0gSBKwwW",
        "outputId": "b571d623-ab3f-4696-8eba-a70c76e6553a"
      },
      "execution_count": 92,
      "outputs": [
        {
          "output_type": "execute_result",
          "data": {
            "text/plain": [
              "array([[[0.94760158, 0.32735299, 0.07963023, ..., 0.51774387,\n",
              "         0.07619319, 0.67254648],\n",
              "        [0.83210335, 0.73652515, 0.15201977, ..., 0.47514646,\n",
              "         0.89851404, 0.43090644],\n",
              "        [0.16247287, 0.18988167, 0.8349607 , ..., 0.77575119,\n",
              "         0.4824986 , 0.47246056],\n",
              "        ...,\n",
              "        [0.28086668, 0.85908358, 0.68789773, ..., 0.94239412,\n",
              "         0.19182923, 0.66348595],\n",
              "        [0.8115034 , 0.0757843 , 0.51822853, ..., 0.74287646,\n",
              "         0.96362553, 0.24427922],\n",
              "        [0.93120734, 0.78435872, 0.90258514, ..., 0.51785849,\n",
              "         0.78360537, 0.32398285]],\n",
              "\n",
              "       [[0.58010053, 0.58930572, 0.753574  , ..., 0.57319085,\n",
              "         0.19160888, 0.08650437],\n",
              "        [0.00552292, 0.1315393 , 0.49744604, ..., 0.90253998,\n",
              "         0.38119289, 0.38826034],\n",
              "        [0.97146032, 0.77610956, 0.08061068, ..., 0.21572593,\n",
              "         0.29475194, 0.16642912],\n",
              "        ...,\n",
              "        [0.60032844, 0.62435067, 0.09228357, ..., 0.72997726,\n",
              "         0.28682309, 0.52977442],\n",
              "        [0.01768958, 0.30737706, 0.76827523, ..., 0.4113645 ,\n",
              "         0.63443523, 0.99687081],\n",
              "        [0.8132888 , 0.16728536, 0.71722719, ..., 0.6897508 ,\n",
              "         0.88659578, 0.17089913]],\n",
              "\n",
              "       [[0.37496364, 0.20937432, 0.33688445, ..., 0.58342807,\n",
              "         0.18130763, 0.36659956],\n",
              "        [0.50715368, 0.56816915, 0.30658748, ..., 0.10807615,\n",
              "         0.71316101, 0.94504024],\n",
              "        [0.86217102, 0.60562231, 0.4902855 , ..., 0.62839255,\n",
              "         0.16178071, 0.2625225 ],\n",
              "        ...,\n",
              "        [0.76096447, 0.59671123, 0.29245604, ..., 0.62037079,\n",
              "         0.99163329, 0.14465428],\n",
              "        [0.59863067, 0.59805405, 0.76657973, ..., 0.59259353,\n",
              "         0.6286779 , 0.08454557],\n",
              "        [0.4807843 , 0.20387567, 0.12952894, ..., 0.49675468,\n",
              "         0.65550854, 0.21112254]],\n",
              "\n",
              "       ...,\n",
              "\n",
              "       [[0.64221539, 0.01821961, 0.99083733, ..., 0.75076017,\n",
              "         0.89195354, 0.06335654],\n",
              "        [0.47795364, 0.81910954, 0.25987646, ..., 0.17439721,\n",
              "         0.07937618, 0.48708426],\n",
              "        [0.25050048, 0.74368584, 0.9689461 , ..., 0.11609556,\n",
              "         0.24150352, 0.54765754],\n",
              "        ...,\n",
              "        [0.96682263, 0.80782094, 0.39624996, ..., 0.26257843,\n",
              "         0.03244586, 0.82394563],\n",
              "        [0.01670701, 0.70225641, 0.41148879, ..., 0.5590407 ,\n",
              "         0.45533389, 0.5650991 ],\n",
              "        [0.7067694 , 0.40781562, 0.14239199, ..., 0.3242369 ,\n",
              "         0.36327374, 0.1203466 ]],\n",
              "\n",
              "       [[0.12974322, 0.16087508, 0.97257239, ..., 0.64135358,\n",
              "         0.83465927, 0.03061755],\n",
              "        [0.93230784, 0.50885058, 0.27198646, ..., 0.52713142,\n",
              "         0.63853733, 0.83666036],\n",
              "        [0.73507123, 0.56695113, 0.0074848 , ..., 0.09534348,\n",
              "         0.29214054, 0.49615131],\n",
              "        ...,\n",
              "        [0.85622205, 0.2516275 , 0.35731713, ..., 0.99467398,\n",
              "         0.15301535, 0.78200035],\n",
              "        [0.75317943, 0.15627219, 0.0321458 , ..., 0.42483602,\n",
              "         0.32096395, 0.7920861 ],\n",
              "        [0.48149265, 0.89079824, 0.22973729, ..., 0.6236443 ,\n",
              "         0.32773601, 0.95858735]],\n",
              "\n",
              "       [[0.74022548, 0.36075064, 0.5920732 , ..., 0.0718721 ,\n",
              "         0.51782409, 0.62015686],\n",
              "        [0.6527975 , 0.62288055, 0.31575528, ..., 0.9217764 ,\n",
              "         0.3882812 , 0.26682703],\n",
              "        [0.71480079, 0.34083818, 0.14280644, ..., 0.71310928,\n",
              "         0.11644849, 0.02170351],\n",
              "        ...,\n",
              "        [0.17130267, 0.11824226, 0.40156604, ..., 0.55263614,\n",
              "         0.0459303 , 0.58379307],\n",
              "        [0.19899392, 0.05499791, 0.18020904, ..., 0.2552708 ,\n",
              "         0.21459785, 0.53566354],\n",
              "        [0.77155813, 0.78017469, 0.30218255, ..., 0.28751376,\n",
              "         0.90302978, 0.43150965]]])"
            ]
          },
          "metadata": {},
          "execution_count": 92
        }
      ]
    },
    {
      "cell_type": "code",
      "source": [
        "mu, sigma = 0, 0.1 # mean and standard deviation\n",
        "s = np.random.normal(mu, sigma, 1000)\n",
        "s\n"
      ],
      "metadata": {
        "colab": {
          "base_uri": "https://localhost:8080/"
        },
        "id": "l0dYsScJK9Yg",
        "outputId": "095e719c-e8e8-4736-ef4f-0ae542f55d1b"
      },
      "execution_count": 94,
      "outputs": [
        {
          "output_type": "execute_result",
          "data": {
            "text/plain": [
              "array([-1.29928766e-01, -9.42512776e-02,  9.66701975e-02, -7.51909837e-02,\n",
              "       -1.12984697e-01,  7.34987258e-02, -5.81130159e-02,  1.55669825e-01,\n",
              "        1.68341173e-01, -6.26778971e-02, -1.01704944e-01, -2.04143850e-02,\n",
              "        4.68908735e-02,  1.76443202e-01,  1.15728953e-01,  5.11835448e-02,\n",
              "        4.37555819e-02,  1.64795456e-01,  1.53199703e-02,  3.35766701e-02,\n",
              "       -8.56000895e-02,  1.25942807e-01, -5.91445451e-02,  1.46828123e-01,\n",
              "        9.82667143e-02, -7.24905969e-02,  6.26397833e-02, -8.98493675e-02,\n",
              "       -7.62234652e-02,  2.12347410e-01, -1.18026419e-01, -4.84535760e-02,\n",
              "       -3.77195163e-02, -9.02121772e-03, -5.65933638e-02, -1.58996798e-01,\n",
              "        5.25959256e-02, -1.81325764e-02, -1.12221090e-01, -1.00358667e-04,\n",
              "        1.50002663e-01,  1.02094188e-03, -2.04441513e-01,  5.25400094e-03,\n",
              "       -8.65677880e-02, -1.87147938e-02, -1.68253139e-01, -1.53785887e-01,\n",
              "        1.77621384e-01,  4.70855072e-02, -1.73508873e-01,  7.77224137e-02,\n",
              "        1.03875014e-01, -2.35948907e-01, -1.26298160e-01,  3.27680849e-04,\n",
              "       -5.92062204e-02,  7.03462728e-02, -1.89373587e-02, -3.49323424e-02,\n",
              "       -2.50877565e-02,  1.01135835e-01, -1.61142576e-01, -3.35204727e-02,\n",
              "        2.45503437e-02,  7.77351699e-02, -3.17338815e-02, -2.53796440e-03,\n",
              "        2.13066750e-02,  2.58720597e-02,  5.84107615e-02, -9.37131420e-02,\n",
              "        1.99611218e-02,  7.63470078e-02, -3.09391464e-02,  1.63735664e-02,\n",
              "        6.42187740e-02, -1.69211103e-02,  2.40606338e-02, -4.80681019e-02,\n",
              "       -8.43056679e-02, -1.10154205e-01, -1.61711275e-02, -7.70644604e-02,\n",
              "       -9.83836911e-04,  2.50843259e-01,  1.11321718e-01,  2.64209802e-02,\n",
              "        3.98675288e-02,  7.95640026e-03,  6.18537347e-02,  7.55646199e-02,\n",
              "        2.04787836e-01,  6.26383698e-02, -8.41369832e-02, -1.63905024e-01,\n",
              "       -1.70944364e-01,  6.64049828e-02, -4.47811901e-02, -9.85555804e-02,\n",
              "        6.59125642e-02,  9.87473450e-02,  7.58827609e-02,  5.03322420e-02,\n",
              "       -2.59558134e-01,  3.97781711e-03,  2.29760768e-03, -8.36363591e-03,\n",
              "        7.83274817e-02, -1.31462092e-01, -5.95800104e-02, -3.58741134e-02,\n",
              "       -1.59602259e-02, -1.02781731e-02,  2.30513607e-02,  1.12577838e-01,\n",
              "       -4.90752425e-02, -3.74479076e-02,  1.12629167e-01,  7.34345755e-02,\n",
              "       -1.58984347e-01,  7.46375026e-02,  1.36267606e-01,  7.86952508e-02,\n",
              "       -6.92849143e-02, -8.99308622e-02, -2.47851350e-01, -1.27165239e-02,\n",
              "        1.29029124e-01, -3.93466213e-02,  9.00811436e-04,  1.88105073e-01,\n",
              "        9.92193317e-02, -1.22411292e-01, -3.94556100e-02, -6.43567712e-02,\n",
              "       -7.60489704e-02, -1.19718936e-01,  1.77477711e-01, -6.03447530e-02,\n",
              "       -5.68995117e-02, -1.19338302e-01,  2.17510589e-02,  8.08807040e-03,\n",
              "        4.84883307e-02,  1.29965747e-01,  3.74501813e-02,  1.14103670e-01,\n",
              "       -6.23775456e-02, -8.66633643e-02, -1.50874884e-01,  5.93477358e-02,\n",
              "       -8.95287759e-02,  1.03649721e-01, -5.17868263e-02, -3.79412280e-02,\n",
              "       -7.94807269e-02,  7.28411345e-02, -8.30423074e-02, -1.71778368e-01,\n",
              "       -2.93542169e-02, -6.42330418e-02,  3.88983264e-02, -4.78016558e-02,\n",
              "       -1.32824425e-01,  1.17823864e-01,  1.96498180e-02,  6.73001877e-02,\n",
              "        1.33628414e-01,  3.08807853e-02, -4.98807869e-02, -9.51074910e-02,\n",
              "       -2.67315759e-03, -1.66687621e-01, -1.28800145e-02,  7.40273938e-03,\n",
              "       -1.28507094e-01,  5.62487092e-02, -7.95232105e-02, -1.42063885e-01,\n",
              "       -1.89411375e-02, -1.37602364e-01, -6.02615351e-02, -3.20284954e-02,\n",
              "       -3.67517130e-02, -1.08743666e-01,  1.33450112e-01,  9.62417397e-03,\n",
              "        3.51170645e-02, -5.16366289e-02,  8.53854805e-04, -6.86045775e-02,\n",
              "       -1.29543546e-01, -7.01688229e-02, -2.68697500e-02, -4.93463617e-03,\n",
              "       -9.11640021e-02, -4.81850364e-03,  6.37038025e-02,  1.52814486e-01,\n",
              "        1.22088945e-01,  1.12549404e-01,  1.91146134e-01, -7.07203427e-03,\n",
              "        8.17520461e-02,  1.01774480e-01, -1.53360846e-02, -1.05265978e-01,\n",
              "        2.35544364e-02,  5.91918365e-03,  1.28055961e-02,  7.04282276e-02,\n",
              "       -1.55680277e-01, -8.25529238e-02,  1.63432955e-01,  1.77355703e-01,\n",
              "       -2.13761942e-02, -1.83563631e-01,  6.08589246e-02, -2.36610352e-01,\n",
              "       -6.45532356e-02, -4.86463306e-02, -1.29623873e-01, -7.74731843e-03,\n",
              "       -9.09359072e-03, -7.37642080e-02, -9.80065176e-03, -6.90607128e-02,\n",
              "        2.50768859e-01,  6.97871224e-02,  3.61302838e-02, -7.11483702e-02,\n",
              "        3.33629185e-02,  8.73066171e-02,  5.01510881e-03, -7.30896931e-03,\n",
              "        4.57196800e-02,  3.19978563e-02, -1.51952767e-01, -9.81615740e-02,\n",
              "       -6.88101489e-02, -3.12681951e-02,  5.70833010e-02, -9.68803473e-02,\n",
              "       -3.90730275e-02, -1.18669579e-01,  1.84171853e-01, -3.58223530e-02,\n",
              "       -1.00660994e-01, -4.57678228e-02, -9.56353423e-02, -2.23233280e-02,\n",
              "        1.04121414e-01,  1.17748585e-01,  1.33562006e-01,  4.46837713e-02,\n",
              "       -3.98906685e-03,  9.38284516e-02, -4.04288325e-02, -1.03700926e-01,\n",
              "        5.74459520e-02, -8.82597033e-02,  2.25767877e-02,  1.67188784e-01,\n",
              "       -4.79310584e-02,  1.62800981e-01,  4.39598228e-03, -4.29835036e-02,\n",
              "        1.05538768e-01,  5.71959316e-02,  9.70869456e-02, -3.96722063e-02,\n",
              "       -6.36622700e-02, -8.64684326e-02, -7.84439416e-02, -6.65261373e-02,\n",
              "       -8.29749288e-02,  9.80844750e-02,  1.06335743e-01,  9.83687216e-02,\n",
              "       -8.35879337e-02, -1.21305430e-01, -7.47996492e-02,  2.07141673e-02,\n",
              "        5.65222807e-02,  5.46925338e-02, -8.42835136e-02,  5.89448231e-02,\n",
              "       -1.15653750e-01,  2.38164453e-02,  4.92003210e-02,  8.61249291e-02,\n",
              "        1.23525947e-01,  1.97084575e-01,  4.70397423e-02, -2.10029219e-02,\n",
              "        1.76447886e-01, -3.47247136e-02,  1.17787212e-01,  3.78135947e-02,\n",
              "       -1.87576314e-01, -4.87789507e-02, -1.01486361e-01,  4.94033216e-02,\n",
              "       -1.22711356e-01, -9.92690114e-02,  6.77725286e-02, -2.53492453e-02,\n",
              "        1.84292700e-01, -1.55843890e-02, -2.48466980e-02,  4.64822333e-02,\n",
              "        6.37441309e-02,  1.53027601e-01, -3.24869608e-02,  5.30030185e-02,\n",
              "        9.55503380e-02, -1.25858421e-01, -1.67149054e-01, -1.33541676e-01,\n",
              "       -1.40894698e-01,  7.90948277e-02, -8.22568073e-02,  7.84456971e-02,\n",
              "       -5.01461318e-02, -1.37083590e-01,  8.76145653e-02, -1.35686210e-02,\n",
              "        1.14212662e-01,  5.86716885e-02,  9.55610949e-02,  1.53121683e-02,\n",
              "        1.42886312e-02, -1.10827358e-01, -1.09106964e-01,  4.72405013e-02,\n",
              "        1.61373170e-01,  3.29754635e-02,  9.63808935e-02,  1.11904484e-01,\n",
              "       -1.59278948e-03,  4.83420855e-03,  3.10697948e-02,  1.34108489e-01,\n",
              "       -1.83508970e-02,  2.94740930e-02, -1.91490194e-01, -1.33897258e-01,\n",
              "       -8.87376401e-02,  6.77704301e-02,  1.20318590e-01, -3.76140632e-02,\n",
              "       -7.61867789e-02,  4.19048390e-03,  7.58130965e-03,  2.37969414e-01,\n",
              "       -6.94958132e-02,  1.74195472e-01, -3.10049236e-02, -5.05857888e-02,\n",
              "        7.45536444e-02, -1.58332171e-01, -2.53546457e-01, -2.08931747e-01,\n",
              "        5.51984680e-02, -5.81832302e-03, -4.23171716e-02, -1.52729948e-01,\n",
              "        3.35149985e-02, -1.56175082e-01,  3.14399297e-05,  1.84084076e-01,\n",
              "       -5.32377249e-02,  4.13998294e-04,  1.47923500e-01,  1.63507129e-01,\n",
              "       -6.70335422e-02, -8.55262610e-02, -1.82818846e-02, -1.98203122e-02,\n",
              "        1.45876838e-01,  3.78581664e-02,  1.39380804e-01, -2.62050463e-02,\n",
              "       -7.50012490e-02,  1.70978611e-01, -2.83674683e-01, -1.32332048e-01,\n",
              "        8.30100293e-02, -6.41525690e-02,  2.19350436e-02, -5.74325856e-02,\n",
              "       -3.97652002e-02, -7.41076622e-03,  7.73692615e-02, -3.50316756e-02,\n",
              "       -1.54387370e-02,  4.76896104e-02,  1.06349094e-01, -3.12290779e-02,\n",
              "       -8.12174577e-02, -1.14238244e-02,  1.11371315e-01,  1.74223909e-01,\n",
              "        3.42684557e-02,  1.89180319e-02, -1.81106099e-01,  2.09419589e-02,\n",
              "       -4.64541993e-02, -3.19900945e-02,  1.91041695e-02, -1.15732779e-01,\n",
              "       -3.93911597e-02, -4.88584031e-02, -1.44733565e-01, -1.30284507e-01,\n",
              "        7.64871413e-02, -4.73413835e-02, -3.72181928e-02,  1.31332711e-01,\n",
              "        1.00718282e-01, -6.36973553e-02, -1.19267669e-01, -7.12033824e-02,\n",
              "        9.67909499e-02, -9.29756803e-02,  1.54849744e-01,  1.42347297e-01,\n",
              "        2.93885515e-02, -8.72299100e-02,  9.00103633e-02,  7.99104408e-02,\n",
              "        9.70690927e-02, -2.97072480e-03,  4.21098802e-02, -1.89588359e-01,\n",
              "        1.83558045e-01, -6.44420436e-02,  1.78542408e-01, -2.85170887e-01,\n",
              "       -2.31850329e-01, -1.23740095e-01, -1.62066617e-02, -2.69551073e-01,\n",
              "       -4.35214349e-02,  2.08500671e-02, -4.15970357e-02, -1.33829699e-01,\n",
              "       -1.07938862e-02,  4.65803718e-02, -4.60403588e-02,  5.61342169e-02,\n",
              "        8.02351930e-02, -2.01731669e-01,  1.15426865e-01,  2.40954845e-01,\n",
              "       -1.87521426e-01,  1.22250135e-01,  2.27351768e-01,  1.10036514e-01,\n",
              "        2.90879255e-03, -1.02027168e-01,  1.31532374e-02, -2.57822422e-02,\n",
              "       -5.26230026e-02, -6.02100599e-02, -4.26993471e-03, -2.15453754e-01,\n",
              "        2.12304335e-02,  8.33315800e-02, -7.20650167e-02,  1.17884459e-01,\n",
              "       -3.47550194e-02, -9.11683293e-02, -5.87747106e-02,  1.57229270e-03,\n",
              "        1.01685378e-01, -9.03182136e-02,  6.34203259e-02,  2.86708851e-02,\n",
              "        3.63832849e-03,  8.22822279e-02,  3.86224646e-02, -8.71228658e-03,\n",
              "       -1.90133923e-01,  1.01648130e-01, -4.81418400e-02,  4.34066328e-03,\n",
              "       -2.91940126e-02,  1.02395151e-01, -5.81385190e-02, -2.51469034e-02,\n",
              "       -3.23229561e-02, -9.20459391e-02, -4.31413231e-02, -1.96623932e-01,\n",
              "       -6.25625924e-03,  1.05586914e-01, -1.03962214e-01, -1.63708344e-01,\n",
              "        2.68901471e-02,  8.25329182e-02,  3.72616607e-02, -1.89040220e-01,\n",
              "        2.51886950e-02, -1.45612825e-01,  2.46523923e-01, -2.49452405e-01,\n",
              "        6.72345734e-02,  7.89962139e-02,  7.05178296e-02,  2.88503706e-03,\n",
              "        1.40943301e-01,  1.56176757e-02, -1.68755196e-02,  1.79293442e-01,\n",
              "        1.95371715e-01,  1.26576884e-01, -1.18434454e-01,  4.65969689e-02,\n",
              "        5.17339850e-02, -9.57833071e-03, -1.26954691e-01,  1.24637890e-01,\n",
              "       -3.78810699e-03,  9.94985119e-02, -4.35448529e-02,  2.59576107e-03,\n",
              "        1.85213059e-01,  1.09643939e-01, -1.71712517e-01, -8.34683788e-02,\n",
              "        8.18803035e-02,  1.17929562e-01, -1.30540037e-02, -9.72602738e-02,\n",
              "       -5.33182188e-02,  4.27893879e-02,  8.97365151e-02,  1.80397651e-04,\n",
              "        3.10840534e-02,  2.80513162e-01,  6.16559488e-02,  2.87691137e-01,\n",
              "        1.41879518e-03, -5.43644035e-02, -5.50874727e-02, -1.35472835e-01,\n",
              "        1.28833162e-01, -4.43675758e-02,  3.61125642e-02, -1.75147225e-01,\n",
              "       -2.41444988e-02,  8.95095425e-02, -1.05910552e-01, -8.56418450e-02,\n",
              "        9.40527229e-02,  3.33701188e-02,  6.50320451e-02, -1.19170475e-01,\n",
              "       -6.55902269e-02,  4.00514103e-02,  2.20803622e-01, -1.30749348e-02,\n",
              "        1.17565198e-01,  5.83895193e-02,  9.72654428e-02, -6.70067823e-02,\n",
              "       -1.42400589e-01,  4.54082237e-02, -7.84506993e-02,  3.23599705e-03,\n",
              "        3.45195895e-02,  4.29230715e-02,  1.14010599e-01,  1.00858354e-01,\n",
              "        2.52544729e-02, -1.38631514e-01,  1.85536036e-01, -1.01344745e-01,\n",
              "        8.07398580e-02, -1.13876105e-02,  5.44293374e-02, -3.82051609e-02,\n",
              "       -6.29936608e-02,  1.33368446e-01, -3.52499521e-02,  2.49937038e-02,\n",
              "       -9.26667688e-02,  1.45910377e-02, -4.96106750e-02, -1.98410047e-02,\n",
              "       -1.27903350e-02,  5.09149431e-02,  3.72884028e-02, -1.24415317e-02,\n",
              "        4.29069061e-03,  6.11332299e-02, -1.73924360e-01, -1.82348166e-01,\n",
              "        4.46228330e-02,  1.98237934e-02,  1.19138435e-01, -2.06473562e-02,\n",
              "       -5.32301438e-02, -2.06230022e-02,  6.42290381e-02,  2.65836133e-02,\n",
              "       -1.49189474e-01, -2.08213951e-03,  6.89829272e-02,  1.27853056e-01,\n",
              "        4.74865497e-03,  4.58414812e-02, -5.12066575e-02,  4.50469375e-02,\n",
              "       -9.59477305e-02,  8.05315471e-02, -6.71388952e-02,  4.83294135e-02,\n",
              "       -5.11573065e-02,  8.27678154e-02,  1.60834490e-01,  2.41250249e-04,\n",
              "       -1.56088955e-01, -1.59810769e-01, -1.07795399e-01,  6.73702258e-02,\n",
              "       -1.27846022e-02, -2.94245320e-02, -1.52473954e-01, -7.84810569e-02,\n",
              "        1.22531237e-01,  1.49296067e-01,  1.49653713e-02,  4.84435639e-02,\n",
              "        1.43365131e-01, -6.61842141e-02,  2.08585035e-02,  9.54341788e-03,\n",
              "       -1.14576266e-01,  7.96898806e-02,  4.78366705e-02, -6.42292481e-03,\n",
              "       -7.70888135e-02,  1.55927161e-01,  5.28968467e-02,  8.01152755e-02,\n",
              "       -1.58720452e-02,  9.66892640e-04, -7.29372501e-02,  4.65089679e-02,\n",
              "        2.70408290e-02, -7.38137531e-02, -1.82491159e-01,  1.18800154e-02,\n",
              "       -3.74900420e-02, -1.03705552e-01, -2.89145604e-03, -2.19575136e-02,\n",
              "        2.54697291e-02,  4.89062115e-02,  5.92477905e-02, -1.15972507e-01,\n",
              "       -3.30913656e-02, -5.62021221e-03, -2.62530948e-02,  1.01927587e-01,\n",
              "       -5.15130869e-02, -1.13747982e-01,  4.07509635e-02, -8.51111262e-02,\n",
              "       -2.19674076e-03, -7.62010943e-03,  1.04292180e-01, -7.78427775e-02,\n",
              "        1.37197499e-02,  9.91243149e-02, -1.41353551e-01, -1.07068766e-01,\n",
              "        1.72092997e-01,  9.83550785e-02, -1.53422455e-02,  7.11444615e-02,\n",
              "        8.28991511e-02, -3.02904900e-02,  1.54906604e-01, -5.96809819e-02,\n",
              "        2.27162992e-01,  6.96410534e-02,  1.05071488e-01,  1.43197872e-01,\n",
              "        1.14048854e-01,  1.28345497e-01,  6.67862339e-02,  6.53629377e-02,\n",
              "       -1.61544793e-02,  4.47154129e-03,  1.26762792e-02, -5.36263580e-02,\n",
              "       -1.13406054e-01,  1.61201171e-02, -1.17665286e-01,  1.11661058e-01,\n",
              "        1.32169382e-01, -3.37015331e-02,  1.23383706e-01,  9.12947353e-03,\n",
              "       -8.45375035e-02, -1.08970671e-01, -1.35642907e-01,  3.04182289e-02,\n",
              "        2.26451592e-02, -1.21252615e-01,  3.43787115e-02,  7.18612274e-02,\n",
              "        1.08840959e-01,  1.07348296e-01,  1.55585660e-01, -2.39474949e-01,\n",
              "       -8.32947752e-02, -8.27098033e-02,  2.13302067e-02,  5.05661175e-02,\n",
              "        1.06146021e-02, -9.41185252e-02,  9.80622789e-03,  4.65540222e-02,\n",
              "       -1.38425184e-01,  2.06003245e-01, -2.16912880e-02, -1.52572244e-01,\n",
              "       -1.26150429e-02,  5.44918853e-02,  4.64863690e-02, -7.15393284e-02,\n",
              "        1.67873772e-01,  8.24087375e-02, -5.09740529e-02,  9.84161417e-02,\n",
              "        1.48186028e-02,  4.56652417e-02, -5.60674932e-02, -1.96685811e-01,\n",
              "       -2.61333906e-02, -8.86846591e-02,  6.47108250e-03, -6.05999400e-02,\n",
              "        3.27530042e-02,  1.91147708e-02,  1.88717271e-01,  3.77969188e-02,\n",
              "       -1.68547320e-01,  1.07066102e-01, -1.27685408e-01, -4.58710821e-02,\n",
              "        5.44474785e-04,  2.46918336e-01, -8.63218608e-02,  8.46402586e-02,\n",
              "       -3.26218065e-03,  1.38625225e-02, -1.25657828e-01, -7.07838193e-03,\n",
              "        4.79287350e-02,  1.03501177e-01, -7.08037348e-02, -1.13220041e-02,\n",
              "       -5.35509849e-02, -2.26614218e-03, -8.47548280e-02, -1.12889273e-02,\n",
              "        3.83061089e-02,  1.93575010e-02, -9.94842570e-02,  1.53387845e-01,\n",
              "       -1.82679708e-01, -1.25213110e-01,  1.97371999e-01,  2.20327428e-03,\n",
              "        2.58563084e-02, -1.16362240e-01,  8.89710281e-02, -1.45196966e-02,\n",
              "        3.59495383e-02, -7.07275030e-02,  1.10886677e-01, -1.95835185e-02,\n",
              "        1.19033227e-01, -1.65182664e-02,  5.25641231e-02, -2.22058142e-01,\n",
              "        2.35118842e-01,  4.08645323e-02,  6.43018796e-02,  3.06595557e-02,\n",
              "        6.21838990e-03,  9.11130031e-02,  6.76601274e-02, -8.64566131e-02,\n",
              "        1.71662559e-01,  1.74737890e-01, -3.81370100e-02,  1.65562469e-02,\n",
              "       -3.92801696e-02,  1.74528485e-02, -1.01163734e-01,  7.00705959e-02,\n",
              "       -8.37366310e-02,  5.38679642e-02,  2.10220861e-01, -1.20920608e-01,\n",
              "       -1.42735717e-01, -5.85458605e-02,  8.74897780e-02, -6.64579125e-02,\n",
              "       -2.49313112e-02, -6.96876510e-02,  4.99664189e-02, -2.06818992e-01,\n",
              "       -4.68423934e-02,  3.61369343e-02, -1.07545912e-01, -3.41198666e-02,\n",
              "        3.01542548e-03, -1.81943340e-01,  9.35218663e-02,  2.61991878e-02,\n",
              "        1.93853682e-02, -9.80471689e-02,  1.42884067e-01,  8.54487196e-02,\n",
              "        2.22253546e-01,  8.24627219e-02, -5.97492904e-02,  2.57881689e-02,\n",
              "       -1.42474024e-01, -1.38833364e-01, -1.94883574e-02,  1.86914796e-01,\n",
              "        1.02713643e-02, -1.81010752e-02, -1.43391367e-02, -6.60910135e-02,\n",
              "        1.48376206e-01,  6.41113603e-02, -1.45508518e-01,  1.61360524e-01,\n",
              "       -4.97987230e-03,  3.79966423e-02, -1.22201299e-01, -4.23260459e-02,\n",
              "        1.86798740e-01,  4.94862164e-02, -2.74296599e-02,  2.69829686e-03,\n",
              "       -1.46363442e-01,  2.83118357e-02, -9.22887967e-02, -7.00141468e-03,\n",
              "       -3.80258982e-02,  7.27287325e-02, -1.68201850e-01, -5.49668264e-03,\n",
              "       -1.12661878e-01, -5.77166126e-02, -5.31778622e-02,  1.86588084e-02,\n",
              "        3.80928098e-02,  1.33671232e-01, -9.11102513e-03, -5.98421193e-02,\n",
              "        9.47426089e-02,  5.89599036e-03,  7.19751785e-02, -1.69985168e-01,\n",
              "        3.06687600e-02, -5.75136023e-02,  5.52900754e-02,  2.46674060e-02,\n",
              "        1.82516406e-02, -1.18466849e-02, -2.80299823e-02, -8.74956359e-02,\n",
              "        9.31728047e-02,  6.28613649e-02, -2.08320074e-01,  2.97010650e-02,\n",
              "        4.96268484e-02,  9.31276702e-02,  7.81471029e-02, -1.95299131e-01,\n",
              "       -6.93444470e-02,  1.24357141e-01, -9.04272347e-02, -2.17828663e-03,\n",
              "        4.57490337e-02,  6.96776524e-02, -4.94633533e-02, -3.54470401e-02,\n",
              "        4.21501844e-02, -7.55377249e-02, -8.86353254e-02, -3.86774157e-02,\n",
              "       -6.32137476e-02, -1.92368543e-01,  6.30669950e-02, -6.14585035e-02,\n",
              "       -2.83000704e-02, -2.22548518e-02,  2.82089104e-01, -1.16019084e-02,\n",
              "        4.35394120e-02,  5.37468958e-02,  7.53575068e-02, -2.36178293e-01,\n",
              "       -5.33987649e-02, -3.52379439e-03,  8.57888874e-02, -8.61900965e-02,\n",
              "       -6.35172831e-03, -3.15905092e-02,  4.39420466e-02,  4.94225100e-02,\n",
              "        1.09603060e-01,  7.14601387e-02, -4.00816398e-02, -5.34480216e-02,\n",
              "        1.63402860e-01, -3.75330628e-02,  1.32157749e-02,  7.84595847e-03,\n",
              "        1.69436174e-02, -5.22508312e-02,  2.33571259e-03, -9.81235655e-02,\n",
              "        3.52715335e-02, -1.05111957e-01, -6.69356459e-02,  1.82698774e-02,\n",
              "        1.59396561e-01, -3.85477864e-02, -4.68801613e-02, -7.13055731e-02,\n",
              "        2.64284822e-02,  8.12767535e-02, -1.20628408e-01,  1.17081734e-01,\n",
              "       -5.56255538e-02,  2.01505252e-01, -2.65939487e-01, -8.96314061e-03,\n",
              "       -8.03815487e-02,  5.10457147e-02, -7.66531947e-02, -2.03800031e-01,\n",
              "        2.08099613e-01, -1.47105890e-01, -1.28550063e-04,  8.99584628e-02,\n",
              "       -3.06865402e-01, -1.78609673e-01,  5.94810507e-02,  6.44843939e-02,\n",
              "       -1.15528595e-01,  3.19351656e-02,  1.54189336e-01,  7.82679186e-02,\n",
              "       -3.00385507e-02, -1.02212910e-01,  4.89725990e-02, -5.92422556e-02,\n",
              "       -5.80333486e-02, -1.06371207e-01, -2.52495064e-02,  8.09617397e-02,\n",
              "       -4.16058145e-02,  9.57226352e-03, -6.11123938e-02,  4.47378583e-02,\n",
              "        2.02109787e-01,  2.60863889e-02,  4.92855560e-02,  1.85290723e-01,\n",
              "        1.06696693e-01, -5.60137454e-02,  1.60148527e-01, -4.55066640e-02,\n",
              "       -2.65091102e-02,  2.81715209e-02, -1.77331782e-02, -1.55508711e-01,\n",
              "       -9.55093383e-02,  1.47215375e-01,  7.22870349e-02,  6.92955757e-02,\n",
              "        4.04193305e-02, -3.11462628e-02,  2.79016920e-02, -6.34336842e-02])"
            ]
          },
          "metadata": {},
          "execution_count": 94
        }
      ]
    },
    {
      "cell_type": "code",
      "source": [
        "dice1 = np.random.choice([1,6], 10)\n",
        "dice1"
      ],
      "metadata": {
        "colab": {
          "base_uri": "https://localhost:8080/"
        },
        "id": "k9YDNld0TIUz",
        "outputId": "e119f760-eee1-4816-bed0-896710823697"
      },
      "execution_count": 109,
      "outputs": [
        {
          "output_type": "execute_result",
          "data": {
            "text/plain": [
              "array([1, 6, 6, 1, 1, 1, 6, 6, 6, 1])"
            ]
          },
          "metadata": {},
          "execution_count": 109
        }
      ]
    },
    {
      "cell_type": "code",
      "source": [
        "coin1 = np.random.choice(['H','H','T'], 2)\n",
        "coin1"
      ],
      "metadata": {
        "colab": {
          "base_uri": "https://localhost:8080/"
        },
        "id": "AJXe6C1_TlDS",
        "outputId": "5a8a1788-6f6e-4750-efa1-264e65413bf9"
      },
      "execution_count": 114,
      "outputs": [
        {
          "output_type": "execute_result",
          "data": {
            "text/plain": [
              "array(['T', 'H'], dtype='<U1')"
            ]
          },
          "metadata": {},
          "execution_count": 114
        }
      ]
    }
  ]
}