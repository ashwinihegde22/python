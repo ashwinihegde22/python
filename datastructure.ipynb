{
  "nbformat": 4,
  "nbformat_minor": 0,
  "metadata": {
    "colab": {
      "provenance": [],
      "collapsed_sections": [],
      "history_visible": true,
      "authorship_tag": "ABX9TyPCNX/W4wTbab5D0dENzaBH",
      "include_colab_link": true
    },
    "kernelspec": {
      "name": "python3",
      "display_name": "Python 3"
    },
    "language_info": {
      "name": "python"
    }
  },
  "cells": [
    {
      "cell_type": "markdown",
      "metadata": {
        "id": "view-in-github",
        "colab_type": "text"
      },
      "source": [
        "<a href=\"https://colab.research.google.com/github/ashwinihegde22/python/blob/main/datastructure.ipynb\" target=\"_parent\"><img src=\"https://colab.research.google.com/assets/colab-badge.svg\" alt=\"Open In Colab\"/></a>"
      ]
    },
    {
      "cell_type": "code",
      "source": [
        "#list#\n",
        "x = [5, 6,3, 4.5, \"ashwini\", \"a\", \"b\", (4, 0)]\n",
        "dir(x)"
      ],
      "metadata": {
        "colab": {
          "base_uri": "https://localhost:8080/"
        },
        "id": "07y5gCZisjn-",
        "outputId": "ad945d99-b0cb-4f2f-c86c-75c3c022a8eb"
      },
      "execution_count": null,
      "outputs": [
        {
          "output_type": "execute_result",
          "data": {
            "text/plain": [
              "['__add__',\n",
              " '__class__',\n",
              " '__contains__',\n",
              " '__delattr__',\n",
              " '__delitem__',\n",
              " '__dir__',\n",
              " '__doc__',\n",
              " '__eq__',\n",
              " '__format__',\n",
              " '__ge__',\n",
              " '__getattribute__',\n",
              " '__getitem__',\n",
              " '__gt__',\n",
              " '__hash__',\n",
              " '__iadd__',\n",
              " '__imul__',\n",
              " '__init__',\n",
              " '__init_subclass__',\n",
              " '__iter__',\n",
              " '__le__',\n",
              " '__len__',\n",
              " '__lt__',\n",
              " '__mul__',\n",
              " '__ne__',\n",
              " '__new__',\n",
              " '__reduce__',\n",
              " '__reduce_ex__',\n",
              " '__repr__',\n",
              " '__reversed__',\n",
              " '__rmul__',\n",
              " '__setattr__',\n",
              " '__setitem__',\n",
              " '__sizeof__',\n",
              " '__str__',\n",
              " '__subclasshook__',\n",
              " 'append',\n",
              " 'clear',\n",
              " 'copy',\n",
              " 'count',\n",
              " 'extend',\n",
              " 'index',\n",
              " 'insert',\n",
              " 'pop',\n",
              " 'remove',\n",
              " 'reverse',\n",
              " 'sort']"
            ]
          },
          "metadata": {},
          "execution_count": 42
        }
      ]
    },
    {
      "cell_type": "code",
      "source": [],
      "metadata": {
        "id": "9CPkVjOwx4Zv"
      },
      "execution_count": null,
      "outputs": []
    },
    {
      "cell_type": "code",
      "source": [
        "x.append('bca')\n"
      ],
      "metadata": {
        "id": "uNpDuMLwt7N8"
      },
      "execution_count": null,
      "outputs": []
    },
    {
      "cell_type": "code",
      "source": [
        "x"
      ],
      "metadata": {
        "colab": {
          "base_uri": "https://localhost:8080/"
        },
        "id": "nDQhorNWuHOn",
        "outputId": "c96a8b34-7af1-425e-cbb3-0a7c411d5e75"
      },
      "execution_count": null,
      "outputs": [
        {
          "output_type": "execute_result",
          "data": {
            "text/plain": [
              "[5, 6, 4.5, 'ashwini', ['a', 'b'], (4, 0), 'bca']"
            ]
          },
          "metadata": {},
          "execution_count": 8
        }
      ]
    },
    {
      "cell_type": "code",
      "source": [
        "x.extend([3, 4])"
      ],
      "metadata": {
        "id": "yhuFPhKsuWEm"
      },
      "execution_count": null,
      "outputs": []
    },
    {
      "cell_type": "code",
      "source": [
        "x"
      ],
      "metadata": {
        "colab": {
          "base_uri": "https://localhost:8080/"
        },
        "id": "V7WWfxw3ubn8",
        "outputId": "5df7e8b3-d4e6-47d8-a0d6-f235013a173f"
      },
      "execution_count": null,
      "outputs": [
        {
          "output_type": "execute_result",
          "data": {
            "text/plain": [
              "[5, 6, 4.5, 'ashwini', ['a', 'b'], (4, 0), 'bca', 3, 4]"
            ]
          },
          "metadata": {},
          "execution_count": 10
        }
      ]
    },
    {
      "cell_type": "code",
      "source": [
        "x.insert(0, 'y')\n",
        "print(x)"
      ],
      "metadata": {
        "colab": {
          "base_uri": "https://localhost:8080/"
        },
        "id": "-cDS86_8uxxY",
        "outputId": "855efc6f-38a5-4207-dec2-5bef895295c7"
      },
      "execution_count": null,
      "outputs": [
        {
          "output_type": "stream",
          "name": "stdout",
          "text": [
            "['y', 5, 6, 4.5, 'ashwini', ['a', 'b'], (4, 0), 'bca', 3, 4]\n"
          ]
        }
      ]
    },
    {
      "cell_type": "code",
      "source": [
        "del x[1]\n",
        "print(x)"
      ],
      "metadata": {
        "colab": {
          "base_uri": "https://localhost:8080/"
        },
        "id": "c4K7-uEOu6HK",
        "outputId": "324ccc76-4eef-4ec3-9b89-9a861583e10c"
      },
      "execution_count": null,
      "outputs": [
        {
          "output_type": "stream",
          "name": "stdout",
          "text": [
            "['y', 6, 4.5, 'ashwini', ['a', 'b'], (4, 0), 'bca', 3, 4]\n"
          ]
        }
      ]
    },
    {
      "cell_type": "code",
      "source": [
        "x.remove('ashwini')\n",
        "print(x)"
      ],
      "metadata": {
        "colab": {
          "base_uri": "https://localhost:8080/"
        },
        "id": "n5cTFaHTvDbV",
        "outputId": "64281db8-fe8e-45d6-fb92-0547a36b0386"
      },
      "execution_count": null,
      "outputs": [
        {
          "output_type": "stream",
          "name": "stdout",
          "text": [
            "['y', 6, 4.5, ['a', 'b'], (4, 0), 'bca', 3, 4]\n"
          ]
        }
      ]
    },
    {
      "cell_type": "code",
      "source": [
        "x.reverse()\n",
        "print(x)"
      ],
      "metadata": {
        "colab": {
          "base_uri": "https://localhost:8080/"
        },
        "id": "ucIE_f2VvRe5",
        "outputId": "3ae4197d-b8ae-49f4-c4f9-d6bb124f3154"
      },
      "execution_count": null,
      "outputs": [
        {
          "output_type": "stream",
          "name": "stdout",
          "text": [
            "[4, 3, 'bca', (4, 0), ['a', 'b'], 4.5, 6, 'y']\n"
          ]
        }
      ]
    },
    {
      "cell_type": "code",
      "source": [
        "y=[1,5,2,4]\n",
        "y.sort()\n",
        "y"
      ],
      "metadata": {
        "colab": {
          "base_uri": "https://localhost:8080/"
        },
        "id": "Ovg6lsxDvg7K",
        "outputId": "73da1eb1-fde9-40c0-b2b1-970a24797524"
      },
      "execution_count": null,
      "outputs": [
        {
          "output_type": "execute_result",
          "data": {
            "text/plain": [
              "[1, 2, 4, 5]"
            ]
          },
          "metadata": {},
          "execution_count": 27
        }
      ]
    },
    {
      "cell_type": "code",
      "source": [
        "print(x.index(6))\n",
        "print(x)"
      ],
      "metadata": {
        "colab": {
          "base_uri": "https://localhost:8080/"
        },
        "id": "clVonByYxXyD",
        "outputId": "e9be60e7-c3e0-43a6-dd08-0f53c237c052"
      },
      "execution_count": null,
      "outputs": [
        {
          "output_type": "stream",
          "name": "stdout",
          "text": [
            "2\n",
            "[4.5, 5, 6, 'ashwini', 'a', 'b', (4, 0)]\n"
          ]
        }
      ]
    },
    {
      "cell_type": "code",
      "source": [
        "print(x.count(5))\n",
        "print(x)"
      ],
      "metadata": {
        "colab": {
          "base_uri": "https://localhost:8080/"
        },
        "id": "6ImNQmbYx8KP",
        "outputId": "e60bb2c2-7d17-4925-d004-8341928ba2fa"
      },
      "execution_count": null,
      "outputs": [
        {
          "output_type": "stream",
          "name": "stdout",
          "text": [
            "1\n",
            "[5, 6, 3, 4.5, 'ashwini', 'a', 'b', (4, 0)]\n"
          ]
        }
      ]
    },
    {
      "cell_type": "code",
      "source": [
        "x.clear()\n",
        "print(x)"
      ],
      "metadata": {
        "colab": {
          "base_uri": "https://localhost:8080/"
        },
        "id": "RiV7ncPXyq6U",
        "outputId": "15ede1eb-7b7b-4765-d0ee-42635f4b2b17"
      },
      "execution_count": null,
      "outputs": [
        {
          "output_type": "stream",
          "name": "stdout",
          "text": [
            "[]\n"
          ]
        }
      ]
    },
    {
      "cell_type": "code",
      "source": [
        "x = [5, 6,3, 4.5, \"ashwini\", \"a\", \"b\", (4, 0)]"
      ],
      "metadata": {
        "id": "FcfVTf1fzF9U"
      },
      "execution_count": null,
      "outputs": []
    },
    {
      "cell_type": "code",
      "source": [
        "print(x.pop(1))"
      ],
      "metadata": {
        "colab": {
          "base_uri": "https://localhost:8080/"
        },
        "id": "-U_vNhYvzUFH",
        "outputId": "a5cde687-f706-435f-a7a0-09e815f23c32"
      },
      "execution_count": null,
      "outputs": [
        {
          "output_type": "stream",
          "name": "stdout",
          "text": [
            "6\n"
          ]
        }
      ]
    },
    {
      "cell_type": "code",
      "source": [
        "x.remove('a')\n"
      ],
      "metadata": {
        "id": "OL4WSPeszpoc"
      },
      "execution_count": null,
      "outputs": []
    },
    {
      "cell_type": "code",
      "source": [
        "x"
      ],
      "metadata": {
        "colab": {
          "base_uri": "https://localhost:8080/"
        },
        "id": "IJp25U6VzxDP",
        "outputId": "9f6d8b0a-b9f7-4965-c3d2-b9fa288f6547"
      },
      "execution_count": null,
      "outputs": [
        {
          "output_type": "execute_result",
          "data": {
            "text/plain": [
              "[5, 3, 4.5, 'ashwini', 'b', (4, 0)]"
            ]
          },
          "metadata": {},
          "execution_count": 38
        }
      ]
    },
    {
      "cell_type": "code",
      "source": [
        "e = x.copy()"
      ],
      "metadata": {
        "id": "2bQe4IFN0hAs"
      },
      "execution_count": null,
      "outputs": []
    },
    {
      "cell_type": "code",
      "source": [
        "e"
      ],
      "metadata": {
        "colab": {
          "base_uri": "https://localhost:8080/"
        },
        "id": "D4LL9Ao-0wut",
        "outputId": "db9c7993-a31c-49c9-8ae9-7819ec9ed1a6"
      },
      "execution_count": null,
      "outputs": [
        {
          "output_type": "execute_result",
          "data": {
            "text/plain": [
              "[5, 3, 4.5, 'ashwini', 'b', (4, 0)]"
            ]
          },
          "metadata": {},
          "execution_count": 41
        }
      ]
    },
    {
      "cell_type": "code",
      "source": [],
      "metadata": {
        "id": "rjaxCPSiAaLU"
      },
      "execution_count": null,
      "outputs": []
    },
    {
      "cell_type": "code",
      "source": [
        "# tuple #\n",
        "\n",
        "t = ( \"Hello\",\"Harry\")\n"
      ],
      "metadata": {
        "id": "aezZbPnG_iSv"
      },
      "execution_count": null,
      "outputs": []
    },
    {
      "cell_type": "code",
      "source": [
        "# Tuple with mixed values\n",
        "\n",
        "t = (7,6,'Hi',13.5)\n"
      ],
      "metadata": {
        "id": "jkadUVHI_pP3"
      },
      "execution_count": 1,
      "outputs": []
    },
    {
      "cell_type": "code",
      "source": [
        "#empty tuple\n",
        "t=()\n"
      ],
      "metadata": {
        "id": "JwhwpnNBAeJf"
      },
      "execution_count": 2,
      "outputs": []
    },
    {
      "cell_type": "code",
      "source": [],
      "metadata": {
        "id": "CeBzWRFCEdGt"
      },
      "execution_count": null,
      "outputs": []
    },
    {
      "cell_type": "code",
      "source": [
        "# nested tuple\n",
        "\n",
        "t = ( \"Hi\",[6,7,8],(1,'ash'))\n",
        "t"
      ],
      "metadata": {
        "id": "UgqrJM-kAsj6",
        "colab": {
          "base_uri": "https://localhost:8080/"
        },
        "outputId": "5812bd7b-c1f3-4d2c-ac68-3ea36f402364"
      },
      "execution_count": 3,
      "outputs": [
        {
          "output_type": "execute_result",
          "data": {
            "text/plain": [
              "('Hi', [6, 7, 8], (1, 'ash'))"
            ]
          },
          "metadata": {},
          "execution_count": 3
        }
      ]
    },
    {
      "cell_type": "code",
      "source": [
        "#accessing tuple\n",
        "t = ('a','b','c','d','f')\n",
        "\n",
        "t[2]"
      ],
      "metadata": {
        "id": "lzkx-Nt2A_Tg",
        "colab": {
          "base_uri": "https://localhost:8080/",
          "height": 35
        },
        "outputId": "b9ca6a42-336f-4581-c269-34c044adbfe7"
      },
      "execution_count": 7,
      "outputs": [
        {
          "output_type": "execute_result",
          "data": {
            "text/plain": [
              "'c'"
            ],
            "application/vnd.google.colaboratory.intrinsic+json": {
              "type": "string"
            }
          },
          "metadata": {},
          "execution_count": 7
        }
      ]
    },
    {
      "cell_type": "code",
      "source": [
        "# negative indexing\n",
        "\n",
        "t = ('a','b','c','d','e')\n",
        "t[-2]"
      ],
      "metadata": {
        "id": "EGie6pupBAAO",
        "colab": {
          "base_uri": "https://localhost:8080/",
          "height": 35
        },
        "outputId": "f0f55ad5-31af-4537-f8b2-362aece6af33"
      },
      "execution_count": 8,
      "outputs": [
        {
          "output_type": "execute_result",
          "data": {
            "text/plain": [
              "'d'"
            ],
            "application/vnd.google.colaboratory.intrinsic+json": {
              "type": "string"
            }
          },
          "metadata": {},
          "execution_count": 8
        }
      ]
    },
    {
      "cell_type": "code",
      "source": [
        "t = ('a','b','c','d','e')\n",
        "t[2]"
      ],
      "metadata": {
        "id": "PHsFIts3B5od",
        "colab": {
          "base_uri": "https://localhost:8080/",
          "height": 35
        },
        "outputId": "dedd810e-88c5-411e-b9a3-6e934fa13cf8"
      },
      "execution_count": 9,
      "outputs": [
        {
          "output_type": "execute_result",
          "data": {
            "text/plain": [
              "'c'"
            ],
            "application/vnd.google.colaboratory.intrinsic+json": {
              "type": "string"
            }
          },
          "metadata": {},
          "execution_count": 9
        }
      ]
    },
    {
      "cell_type": "code",
      "source": [
        "# deleting tuple\n",
        "\n",
        "x = ('Ashwini','anand','ram','manju')\n",
        "del x\n",
        "x"
      ],
      "metadata": {
        "id": "zKCbGcx3CKtd"
      },
      "execution_count": 12,
      "outputs": []
    },
    {
      "cell_type": "code",
      "source": [
        "# slicing\n",
        "\n",
        "t =  ('Jan','dev','roopa',10,45)\n",
        "t[1:3]"
      ],
      "metadata": {
        "id": "O2sWHin3C6xy",
        "colab": {
          "base_uri": "https://localhost:8080/"
        },
        "outputId": "fb432a4a-5603-4071-e929-c57c8ae31fe5"
      },
      "execution_count": 13,
      "outputs": [
        {
          "output_type": "execute_result",
          "data": {
            "text/plain": [
              "('dev', 'roopa')"
            ]
          },
          "metadata": {},
          "execution_count": 13
        }
      ]
    },
    {
      "cell_type": "code",
      "source": [
        "t = ('a','b','c','d','e')\n",
        "t[:]"
      ],
      "metadata": {
        "id": "2Qswi4uJDxL4",
        "colab": {
          "base_uri": "https://localhost:8080/"
        },
        "outputId": "4479a4de-eb35-4c68-ca8f-e7c0a0b4ab5f"
      },
      "execution_count": 14,
      "outputs": [
        {
          "output_type": "execute_result",
          "data": {
            "text/plain": [
              "('a', 'b', 'c', 'd', 'e')"
            ]
          },
          "metadata": {},
          "execution_count": 14
        }
      ]
    },
    {
      "cell_type": "code",
      "source": [
        "# while loop in tuple\n",
        "\n",
        "t = ('A','V','S','R')\n",
        "i=0\n",
        "while i < len(t):\n",
        "  print(t[i])\n",
        "  i = i+1"
      ],
      "metadata": {
        "id": "byA6oOtwH_Me",
        "colab": {
          "base_uri": "https://localhost:8080/"
        },
        "outputId": "c6d1e280-266c-4c44-bed4-62711450ec7f"
      },
      "execution_count": 17,
      "outputs": [
        {
          "output_type": "stream",
          "name": "stdout",
          "text": [
            "A\n",
            "V\n",
            "S\n",
            "R\n"
          ]
        }
      ]
    },
    {
      "cell_type": "code",
      "source": [
        "# data types in tuple\n",
        "\n",
        "t = (\"apple\", \"banana\", \"cherry\")\n",
        "t = (1, 5, 7, 9, 3)\n",
        "t= (True, False, False)\n",
        "\n",
        "t"
      ],
      "metadata": {
        "id": "jfOI5Tc3IG8u",
        "colab": {
          "base_uri": "https://localhost:8080/"
        },
        "outputId": "b13d2a26-f81d-4914-d993-aaa2e9787f4d"
      },
      "execution_count": 18,
      "outputs": [
        {
          "output_type": "execute_result",
          "data": {
            "text/plain": [
              "(True, False, False)"
            ]
          },
          "metadata": {},
          "execution_count": 18
        }
      ]
    },
    {
      "cell_type": "code",
      "source": [
        "# convert tuple to list\n",
        "\n",
        "x = (\"a\", \"b\", \"c\")\n",
        "y = list(x)\n",
        "y[1] = \"k\"\n",
        "x = tuple(y)\n",
        "\n",
        "print(x)"
      ],
      "metadata": {
        "id": "QqkACJ1GILgW",
        "colab": {
          "base_uri": "https://localhost:8080/"
        },
        "outputId": "ee9bc853-2016-4c1b-a11c-f6dab7ac8379"
      },
      "execution_count": 20,
      "outputs": [
        {
          "output_type": "stream",
          "name": "stdout",
          "text": [
            "('a', 'k', 'c')\n"
          ]
        }
      ]
    },
    {
      "cell_type": "code",
      "source": [
        "#set\n",
        "\n",
        "set = {\"cycle\", \"Car\", \"Motor vehicle\"}\n",
        "set"
      ],
      "metadata": {
        "colab": {
          "base_uri": "https://localhost:8080/"
        },
        "id": "SFBqmj0BE_61",
        "outputId": "f996c661-10f5-498e-b7d8-99ee461acf3a"
      },
      "execution_count": 21,
      "outputs": [
        {
          "output_type": "execute_result",
          "data": {
            "text/plain": [
              "{'Car', 'Motor vehicle', 'cycle'}"
            ]
          },
          "metadata": {},
          "execution_count": 21
        }
      ]
    },
    {
      "cell_type": "code",
      "source": [
        "# duplicate values\n",
        "\n",
        "thisset = {\"grapes\", \"banana\", \"cherry\", }\n",
        "\n",
        "print(thisset)"
      ],
      "metadata": {
        "id": "kCVOTzrqFhdz",
        "colab": {
          "base_uri": "https://localhost:8080/"
        },
        "outputId": "5c60a170-4d7b-49a2-b7e7-68b58dce1419"
      },
      "execution_count": 22,
      "outputs": [
        {
          "output_type": "stream",
          "name": "stdout",
          "text": [
            "{'banana', 'grapes', 'cherry'}\n"
          ]
        }
      ]
    },
    {
      "cell_type": "code",
      "source": [
        "# Add Set\n",
        "set2={\"a1\",\"a2\"}\n",
        "set2.add(\"a3\")\n",
        "set2"
      ],
      "metadata": {
        "id": "eBop3539FlMb",
        "colab": {
          "base_uri": "https://localhost:8080/"
        },
        "outputId": "c857a45e-0c3c-4921-91e4-1b25df072f27"
      },
      "execution_count": 53,
      "outputs": [
        {
          "output_type": "execute_result",
          "data": {
            "text/plain": [
              "{'a1', 'a2', 'a3'}"
            ]
          },
          "metadata": {},
          "execution_count": 53
        }
      ]
    },
    {
      "cell_type": "code",
      "source": [
        "#update set\n",
        "set3={\"m1\",\"m2\"}\n",
        "set2.update(set3)\n",
        "set2\n",
        "\n"
      ],
      "metadata": {
        "id": "S05rDAzUFp2v",
        "colab": {
          "base_uri": "https://localhost:8080/"
        },
        "outputId": "e289e991-1c8a-4617-b767-e067fe41568f"
      },
      "execution_count": 54,
      "outputs": [
        {
          "output_type": "execute_result",
          "data": {
            "text/plain": [
              "{'a1', 'a2', 'a3', 'm1', 'm2'}"
            ]
          },
          "metadata": {},
          "execution_count": 54
        }
      ]
    },
    {
      "cell_type": "code",
      "source": [
        "# remove\n",
        "\n",
        "add_set.remove(4)\n",
        "add_set"
      ],
      "metadata": {
        "id": "dX56FoBjFs4J"
      },
      "execution_count": null,
      "outputs": []
    },
    {
      "cell_type": "code",
      "source": [
        "# loops\n",
        "\n",
        "thisset = {\"Bike\", \"Car\", \"Motor Vehicle\"}\n",
        "\n",
        "for x in thisset:\n",
        "  print(x)"
      ],
      "metadata": {
        "id": "U1f99_1-FxOQ",
        "colab": {
          "base_uri": "https://localhost:8080/"
        },
        "outputId": "b1c9b9fc-92fd-4a94-e878-1d3529caacbd"
      },
      "execution_count": 27,
      "outputs": [
        {
          "output_type": "stream",
          "name": "stdout",
          "text": [
            "Motor Vehicle\n",
            "Bike\n",
            "Car\n"
          ]
        }
      ]
    },
    {
      "cell_type": "code",
      "source": [
        "# join set union() method\n",
        "\n",
        "set1 = {\"a\", \"b\" , \"c\"}\n",
        "set2 = {1, 2, 3}\n",
        "\n",
        "set3 = set1.union(set2)\n",
        "print(set3)"
      ],
      "metadata": {
        "id": "g2ZNe8DdF03W",
        "colab": {
          "base_uri": "https://localhost:8080/"
        },
        "outputId": "682c7fab-0935-4196-9f11-0c2cfffd2605"
      },
      "execution_count": 28,
      "outputs": [
        {
          "output_type": "stream",
          "name": "stdout",
          "text": [
            "{'c', 1, 2, 3, 'b', 'a'}\n"
          ]
        }
      ]
    },
    {
      "cell_type": "code",
      "source": [
        "# update\n",
        "\n",
        "set1 = {\"p\", \"q\" , \"r\"}\n",
        "set2 = {6, 9, 10}\n",
        "\n",
        "set1.update(set2)\n",
        "print(set1)\n"
      ],
      "metadata": {
        "id": "F8t6F-rnF4d3",
        "colab": {
          "base_uri": "https://localhost:8080/"
        },
        "outputId": "bf54e0fc-32d7-4669-a38f-fad1eb7a5fb2"
      },
      "execution_count": 29,
      "outputs": [
        {
          "output_type": "stream",
          "name": "stdout",
          "text": [
            "{'p', 'q', 6, 9, 10, 'r'}\n"
          ]
        }
      ]
    },
    {
      "cell_type": "code",
      "source": [
        "#DICTIONARY\n",
        "\n",
        "# create dict\n",
        "\n",
        "dict = {\n",
        "  \"brand\": \"Ford\",\n",
        "  \"model\": \"Mustang\",\n",
        "  \"year\": 1964\n",
        "}\n",
        "\n",
        "dict"
      ],
      "metadata": {
        "id": "Tz-FTJOsGHoN",
        "colab": {
          "base_uri": "https://localhost:8080/"
        },
        "outputId": "78f9faf9-8dc0-41cb-f41c-0ebccda7f3b9"
      },
      "execution_count": 30,
      "outputs": [
        {
          "output_type": "execute_result",
          "data": {
            "text/plain": [
              "{'brand': 'Ford', 'model': 'Mustang', 'year': 1964}"
            ]
          },
          "metadata": {},
          "execution_count": 30
        }
      ]
    },
    {
      "cell_type": "code",
      "source": [
        "dict = {\n",
        "  \"brand\": \"Ford\",\n",
        "  \"model\": \"Mustang\",\n",
        "  \"year\": 1964\n",
        "}\n",
        "print(dict[\"brand\"])"
      ],
      "metadata": {
        "id": "_UtTDd1lGQbQ",
        "colab": {
          "base_uri": "https://localhost:8080/"
        },
        "outputId": "2d2258c6-a041-40e0-fcd4-666cc30e8c1c"
      },
      "execution_count": 31,
      "outputs": [
        {
          "output_type": "stream",
          "name": "stdout",
          "text": [
            "Ford\n"
          ]
        }
      ]
    },
    {
      "cell_type": "code",
      "source": [
        "# duplicate values\n",
        "\n",
        "dict = {\n",
        "  \"brand\": \"Ford\",\n",
        "  \"model\": \"Mustang\",\n",
        "  \"year\": 1964,\n",
        "  \"year\": 2020\n",
        "}\n",
        "print(dict)"
      ],
      "metadata": {
        "id": "0DlIxkGJGjwj",
        "colab": {
          "base_uri": "https://localhost:8080/"
        },
        "outputId": "54658a53-ddf8-42aa-98fb-f0a0f1a7414f"
      },
      "execution_count": 32,
      "outputs": [
        {
          "output_type": "stream",
          "name": "stdout",
          "text": [
            "{'brand': 'Ford', 'model': 'Mustang', 'year': 2020}\n"
          ]
        }
      ]
    },
    {
      "cell_type": "code",
      "source": [
        "# adding values\n",
        "\n",
        "dict = {\n",
        "  \"brand\": \"Ford\",\n",
        "  \"model\": \"Mustang\",\n",
        "  \"year\": 1964\n",
        "}\n",
        "dict[\"color\"] = \"red\"\n",
        "print(dict)"
      ],
      "metadata": {
        "id": "4iudSoxhG2AC",
        "colab": {
          "base_uri": "https://localhost:8080/"
        },
        "outputId": "718b443a-d2e2-42a8-9454-9caf539ac238"
      },
      "execution_count": 33,
      "outputs": [
        {
          "output_type": "stream",
          "name": "stdout",
          "text": [
            "{'brand': 'Ford', 'model': 'Mustang', 'year': 1964, 'color': 'red'}\n"
          ]
        }
      ]
    },
    {
      "cell_type": "code",
      "source": [
        "# update\n",
        "\n",
        "dict = {\n",
        "  \"brand\": \"Ford\",\n",
        "  \"model\": \"Mustang\",\n",
        "  \"year\": 1964\n",
        "}\n",
        "dict.update({\"color\": \"black\"})"
      ],
      "metadata": {
        "id": "B2XddNv0G7Nh"
      },
      "execution_count": 34,
      "outputs": []
    },
    {
      "cell_type": "code",
      "source": [
        "# remove\n",
        "\n",
        "dict = {\n",
        "  \"brand\": \"Ford\",\n",
        "  \"model\": \"Mustang\",\n",
        "  \"year\": 1964\n",
        "}\n",
        "dict.pop(\"model\")\n",
        "print(dict)"
      ],
      "metadata": {
        "id": "kcToRFbPG_6U",
        "colab": {
          "base_uri": "https://localhost:8080/"
        },
        "outputId": "a6bb3359-30f2-41ea-af63-b4876bfd7478"
      },
      "execution_count": 35,
      "outputs": [
        {
          "output_type": "stream",
          "name": "stdout",
          "text": [
            "{'brand': 'Ford', 'year': 1964}\n"
          ]
        }
      ]
    },
    {
      "cell_type": "code",
      "source": [
        "# remove last inserted element\n",
        "\n",
        "dict = {\n",
        "  \"brand\": \"Ford\",\n",
        "  \"model\": \"Mustang\",\n",
        "  \"year\": 1964\n",
        "}\n",
        "dict.popitem()\n",
        "print(dict)"
      ],
      "metadata": {
        "id": "eX423UBvHFim",
        "colab": {
          "base_uri": "https://localhost:8080/"
        },
        "outputId": "b3cd6485-4600-4385-a2fd-4a488bbf25cd"
      },
      "execution_count": 36,
      "outputs": [
        {
          "output_type": "stream",
          "name": "stdout",
          "text": [
            "{'brand': 'Ford', 'model': 'Mustang'}\n"
          ]
        }
      ]
    },
    {
      "cell_type": "code",
      "source": [
        "# clear all\n",
        "\n",
        "dict = {\n",
        "  \"brand\": \"Ford\",\n",
        "  \"model\": \"Mustang\",\n",
        "  \"year\": 1964\n",
        "}\n",
        "dict.clear()\n",
        "print(dict)"
      ],
      "metadata": {
        "id": "fWRG-VNLHKK5",
        "colab": {
          "base_uri": "https://localhost:8080/"
        },
        "outputId": "953624a1-4076-470d-9d5b-e6a6e5f5bf45"
      },
      "execution_count": 37,
      "outputs": [
        {
          "output_type": "stream",
          "name": "stdout",
          "text": [
            "{}\n"
          ]
        }
      ]
    },
    {
      "cell_type": "code",
      "source": [
        "# loops\n",
        "\n",
        "for x in dict:\n",
        "  print(x)"
      ],
      "metadata": {
        "id": "yiq2nHXPHTG6"
      },
      "execution_count": 38,
      "outputs": []
    },
    {
      "cell_type": "code",
      "source": [
        "for x in dict:\n",
        "  print(dict[x])"
      ],
      "metadata": {
        "id": "JtSE29jhHWWy"
      },
      "execution_count": 39,
      "outputs": []
    },
    {
      "cell_type": "code",
      "source": [
        "# values\n",
        "\n",
        "for x in thisdict.keys():\n",
        "  print(x)"
      ],
      "metadata": {
        "id": "lTEnOS1IHkf5"
      },
      "execution_count": null,
      "outputs": []
    },
    {
      "cell_type": "code",
      "source": [
        "# item method\n",
        "\n",
        "for x, y in dict.items():\n",
        "  print(x, y)"
      ],
      "metadata": {
        "id": "Ny0ewH0MHpmG"
      },
      "execution_count": 40,
      "outputs": []
    },
    {
      "cell_type": "code",
      "source": [
        "# copy () method\n",
        "\n",
        "dict = {\n",
        "  \"brand\": \"Benz\",\n",
        "  \"model\": \"marsidez\",\n",
        "  \"year\": 1980\n",
        "}\n",
        "mydict = dict.copy()\n",
        "print(mydict)"
      ],
      "metadata": {
        "id": "ha7vdOjmHslk",
        "colab": {
          "base_uri": "https://localhost:8080/"
        },
        "outputId": "5ce34a9f-a41f-4136-d49f-9194466f0fd9"
      },
      "execution_count": 41,
      "outputs": [
        {
          "output_type": "stream",
          "name": "stdout",
          "text": [
            "{'brand': 'Benz', 'model': 'marsidez', 'year': 1980}\n"
          ]
        }
      ]
    },
    {
      "cell_type": "code",
      "source": [
        "# Three Dictionary\n",
        "\n",
        "member = {\n",
        "  \"member1\" : {\n",
        "    \"name\" : \"manju\",\n",
        "    \"year\" : 1965\n",
        "  },\n",
        "  \"member2\" : {\n",
        "    \"name\" : \"ramu\",\n",
        "    \"year\" : 2010\n",
        "  },\n",
        "  \"member3\" : {\n",
        "    \"name\" : \"anand\",\n",
        "    \"year\" : 2011\n",
        "  }\n",
        "}\n",
        "\n",
        "member"
      ],
      "metadata": {
        "id": "gQOLfdenHyri",
        "colab": {
          "base_uri": "https://localhost:8080/"
        },
        "outputId": "13ba12d2-b835-440d-d658-c8e951923211"
      },
      "execution_count": 55,
      "outputs": [
        {
          "output_type": "execute_result",
          "data": {
            "text/plain": [
              "{'member1': {'name': 'manju', 'year': 1965},\n",
              " 'member2': {'name': 'ramu', 'year': 2010},\n",
              " 'member3': {'name': 'anand', 'year': 2011}}"
            ]
          },
          "metadata": {},
          "execution_count": 55
        }
      ]
    }
  ]
}