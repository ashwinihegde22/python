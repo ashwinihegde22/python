{
  "cells": [
    {
      "cell_type": "markdown",
      "metadata": {
        "id": "view-in-github",
        "colab_type": "text"
      },
      "source": [
        "<a href=\"https://colab.research.google.com/github/ashwinihegde22/python/blob/main/lambda.ipynb\" target=\"_parent\"><img src=\"https://colab.research.google.com/assets/colab-badge.svg\" alt=\"Open In Colab\"/></a>"
      ]
    },
    {
      "cell_type": "code",
      "source": [
        "a = lambda b : b + 15\n",
        "print(a(10))\n",
        "a = lambda x, y : x * y\n",
        "print(a(13, 2))"
      ],
      "metadata": {
        "colab": {
          "base_uri": "https://localhost:8080/"
        },
        "id": "zVKXXPIkljHC",
        "outputId": "8ae92e05-c3a1-48c3-cdca-e12948c214de"
      },
      "execution_count": 16,
      "outputs": [
        {
          "output_type": "stream",
          "name": "stdout",
          "text": [
            "25\n",
            "26\n"
          ]
        }
      ]
    },
    {
      "cell_type": "code",
      "source": [
        "import datetime\n",
        "now = datetime.datetime.now()\n",
        "print('now')\n",
        "year = lambda x: x.year\n",
        "month = lambda x: x.month\n",
        "day = lambda x: x.day\n",
        "time = lambda x: x.time()\n",
        "print(year(now))\n",
        "print(month(now))\n",
        "print(day(now))\n",
        "print(time(now))"
      ],
      "metadata": {
        "colab": {
          "base_uri": "https://localhost:8080/"
        },
        "id": "H3uKCyFfmlfd",
        "outputId": "f881e0ed-376d-4b8c-ba69-e8ce4783385e"
      },
      "execution_count": 26,
      "outputs": [
        {
          "output_type": "stream",
          "name": "stdout",
          "text": [
            "now\n",
            "2022\n",
            "9\n",
            "20\n",
            "11:59:48.834762\n"
          ]
        }
      ]
    },
    {
      "cell_type": "code",
      "source": [
        "sample_name = ['ash', 'Sucheta','Keerti','sujata']\n",
        "sample_name =list(filter(lambda el:el[0].isupper() and el[1:].islower(),sample_name))\n",
        "print('result')\n",
        "print(len(''.join(sample_name)))"
      ],
      "metadata": {
        "colab": {
          "base_uri": "https://localhost:8080/"
        },
        "id": "ljW2_w3Uo6eS",
        "outputId": "8117d2d3-b4cb-4ec5-f5e1-d84850ce6dab"
      },
      "execution_count": 21,
      "outputs": [
        {
          "output_type": "stream",
          "name": "stdout",
          "text": [
            "result\n",
            "13\n"
          ]
        }
      ]
    },
    {
      "cell_type": "code",
      "source": [
        "def extract(strlists, l):\n",
        "    result = list(filter(lambda e: len(e) == l, strlist))\n",
        "    return result\n",
        "\n",
        "strlist = ['Ashwini', 'shreya', 'ganesh'] \n",
        "print(\"Original list:\")\n",
        "print(strlist)\n",
        "l = 7\n",
        "print(\"\\nlength of the string to extract:\")\n",
        "print(l)\n",
        "print(\"\\nAfter extracting strings of specified length from the said list:\")\n",
        "print(extract(strlist , l))"
      ],
      "metadata": {
        "colab": {
          "base_uri": "https://localhost:8080/"
        },
        "id": "jqTX7lD-rIHz",
        "outputId": "b5e05a30-9f03-445d-f064-a634b2b40b6c"
      },
      "execution_count": 24,
      "outputs": [
        {
          "output_type": "stream",
          "name": "stdout",
          "text": [
            "Original list:\n",
            "['Ashwini', 'shreya', 'ganesh']\n",
            "\n",
            "length of the string to extract:\n",
            "7\n",
            "\n",
            "After extracting strings of specified length from the said list:\n",
            "['Ashwini']\n"
          ]
        }
      ]
    },
    {
      "cell_type": "code",
      "source": [
        "def findsub(str1, substr):\n",
        "    res = list(filter(lambda x: substr in x, str1))\n",
        "    return res\n",
        "color = [\"red\", \"black\", \"white\", \"green\", \"orange\"]\n",
        "print(\"Original list:\")\n",
        "print(color)\n",
        "\n",
        "substr = \"ack\"\n",
        "print(\"\\nSubstring to search:\")\n",
        "print(substr)\n",
        "print(\"Elements of the said list that contain specific substring:\")\n",
        "print(findsub(color, substr))\n",
        "substr = \"abc\"\n",
        "print(\"\\nSubstring to search:\")\n",
        "print(substr)\n",
        "print(\"Elements of the said list that contain specific substring:\")\n",
        "print(findsub(color, substr))"
      ],
      "metadata": {
        "colab": {
          "base_uri": "https://localhost:8080/"
        },
        "id": "g3-bzMdCvw9H",
        "outputId": "44c4219c-d382-47f8-c005-f5d492e9a719"
      },
      "execution_count": 25,
      "outputs": [
        {
          "output_type": "stream",
          "name": "stdout",
          "text": [
            "Original list:\n",
            "['red', 'black', 'white', 'green', 'orange']\n",
            "\n",
            "Substring to search:\n",
            "ack\n",
            "Elements of the said list that contain specific substring:\n",
            "['black']\n",
            "\n",
            "Substring to search:\n",
            "abc\n",
            "Elements of the said list that contain specific substring:\n",
            "[]\n"
          ]
        }
      ]
    }
  ],
  "metadata": {
    "colab": {
      "provenance": [],
      "collapsed_sections": [],
      "authorship_tag": "ABX9TyN5NIlLlcYKRzvPPzzXGGdC",
      "include_colab_link": true
    },
    "kernelspec": {
      "display_name": "Python 3",
      "name": "python3"
    },
    "language_info": {
      "name": "python"
    }
  },
  "nbformat": 4,
  "nbformat_minor": 0
}