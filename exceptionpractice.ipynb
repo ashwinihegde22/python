{
  "nbformat": 4,
  "nbformat_minor": 0,
  "metadata": {
    "colab": {
      "provenance": [],
      "collapsed_sections": [],
      "authorship_tag": "ABX9TyO5S+dqN8XRQKvC9z4oeLFo",
      "include_colab_link": true
    },
    "kernelspec": {
      "name": "python3",
      "display_name": "Python 3"
    },
    "language_info": {
      "name": "python"
    }
  },
  "cells": [
    {
      "cell_type": "markdown",
      "metadata": {
        "id": "view-in-github",
        "colab_type": "text"
      },
      "source": [
        "<a href=\"https://colab.research.google.com/github/ashwinihegde22/python/blob/main/exceptionpractice.ipynb\" target=\"_parent\"><img src=\"https://colab.research.google.com/assets/colab-badge.svg\" alt=\"Open In Colab\"/></a>"
      ]
    },
    {
      "cell_type": "code",
      "execution_count": null,
      "metadata": {
        "colab": {
          "base_uri": "https://localhost:8080/"
        },
        "id": "B2yAiPDgXt0T",
        "outputId": "c00ab350-bb45-49b4-e9cb-07a09cc51025"
      },
      "outputs": [
        {
          "output_type": "stream",
          "name": "stdout",
          "text": [
            "Enter a number6\n",
            "Enter second number7\n",
            "sum is 13\n"
          ]
        }
      ],
      "source": [
        "a= int(input(\"Enter a number\"))\n",
        "b= int(input(\"Enter second number\"))\n",
        "print(\"sum is\",a+b)"
      ]
    },
    {
      "cell_type": "code",
      "source": [
        "a= int(input(\"Enter a number\"))\n",
        "b= input(\"Enter second number\")\n",
        "print(\"sum is\",a+b)"
      ],
      "metadata": {
        "colab": {
          "base_uri": "https://localhost:8080/",
          "height": 235
        },
        "id": "xqoTr3ooYgOG",
        "outputId": "67904ebc-a3cc-4cd5-d959-679c78be488c"
      },
      "execution_count": null,
      "outputs": [
        {
          "name": "stdout",
          "output_type": "stream",
          "text": [
            "Enter a number7\n",
            "Enter second number8\n"
          ]
        },
        {
          "output_type": "error",
          "ename": "TypeError",
          "evalue": "ignored",
          "traceback": [
            "\u001b[0;31m---------------------------------------------------------------------------\u001b[0m",
            "\u001b[0;31mTypeError\u001b[0m                                 Traceback (most recent call last)",
            "\u001b[0;32m<ipython-input-7-14f9300b353a>\u001b[0m in \u001b[0;36m<module>\u001b[0;34m\u001b[0m\n\u001b[1;32m      1\u001b[0m \u001b[0ma\u001b[0m\u001b[0;34m=\u001b[0m \u001b[0mint\u001b[0m\u001b[0;34m(\u001b[0m\u001b[0minput\u001b[0m\u001b[0;34m(\u001b[0m\u001b[0;34m\"Enter a number\"\u001b[0m\u001b[0;34m)\u001b[0m\u001b[0;34m)\u001b[0m\u001b[0;34m\u001b[0m\u001b[0;34m\u001b[0m\u001b[0m\n\u001b[1;32m      2\u001b[0m \u001b[0mb\u001b[0m\u001b[0;34m=\u001b[0m \u001b[0minput\u001b[0m\u001b[0;34m(\u001b[0m\u001b[0;34m\"Enter second number\"\u001b[0m\u001b[0;34m)\u001b[0m\u001b[0;34m\u001b[0m\u001b[0;34m\u001b[0m\u001b[0m\n\u001b[0;32m----> 3\u001b[0;31m \u001b[0mprint\u001b[0m\u001b[0;34m(\u001b[0m\u001b[0;34m\"sum is\"\u001b[0m\u001b[0;34m,\u001b[0m\u001b[0ma\u001b[0m\u001b[0;34m+\u001b[0m\u001b[0mb\u001b[0m\u001b[0;34m)\u001b[0m\u001b[0;34m\u001b[0m\u001b[0;34m\u001b[0m\u001b[0m\n\u001b[0m",
            "\u001b[0;31mTypeError\u001b[0m: unsupported operand type(s) for +: 'int' and 'str'"
          ]
        }
      ]
    },
    {
      "cell_type": "code",
      "source": [],
      "metadata": {
        "id": "HOUKD8K-aEsg"
      },
      "execution_count": null,
      "outputs": []
    },
    {
      "cell_type": "code",
      "source": [
        "x= int(input())\n",
        "y=int(input())\n",
        "print(\"Division result\",x/y)"
      ],
      "metadata": {
        "colab": {
          "base_uri": "https://localhost:8080/",
          "height": 235
        },
        "id": "sXgKtkCGaFX1",
        "outputId": "dbd01240-be9c-4057-d633-2fa48df56572"
      },
      "execution_count": null,
      "outputs": [
        {
          "name": "stdout",
          "output_type": "stream",
          "text": [
            "5\n",
            "0\n"
          ]
        },
        {
          "output_type": "error",
          "ename": "ZeroDivisionError",
          "evalue": "ignored",
          "traceback": [
            "\u001b[0;31m---------------------------------------------------------------------------\u001b[0m",
            "\u001b[0;31mZeroDivisionError\u001b[0m                         Traceback (most recent call last)",
            "\u001b[0;32m<ipython-input-8-6ee6d89bdaa7>\u001b[0m in \u001b[0;36m<module>\u001b[0;34m\u001b[0m\n\u001b[1;32m      1\u001b[0m \u001b[0mx\u001b[0m\u001b[0;34m=\u001b[0m \u001b[0mint\u001b[0m\u001b[0;34m(\u001b[0m\u001b[0minput\u001b[0m\u001b[0;34m(\u001b[0m\u001b[0;34m)\u001b[0m\u001b[0;34m)\u001b[0m\u001b[0;34m\u001b[0m\u001b[0;34m\u001b[0m\u001b[0m\n\u001b[1;32m      2\u001b[0m \u001b[0my\u001b[0m\u001b[0;34m=\u001b[0m\u001b[0mint\u001b[0m\u001b[0;34m(\u001b[0m\u001b[0minput\u001b[0m\u001b[0;34m(\u001b[0m\u001b[0;34m)\u001b[0m\u001b[0;34m)\u001b[0m\u001b[0;34m\u001b[0m\u001b[0;34m\u001b[0m\u001b[0m\n\u001b[0;32m----> 3\u001b[0;31m \u001b[0mprint\u001b[0m\u001b[0;34m(\u001b[0m\u001b[0;34m\"Division result\"\u001b[0m\u001b[0;34m,\u001b[0m\u001b[0mx\u001b[0m\u001b[0;34m/\u001b[0m\u001b[0my\u001b[0m\u001b[0;34m)\u001b[0m\u001b[0;34m\u001b[0m\u001b[0;34m\u001b[0m\u001b[0m\n\u001b[0m",
            "\u001b[0;31mZeroDivisionError\u001b[0m: division by zero"
          ]
        }
      ]
    },
    {
      "cell_type": "code",
      "source": [
        "#raise\n",
        "#try, except\n",
        "\n",
        "try:\n",
        "  x=5\n",
        "  y='0'\n",
        "  print(x/y)# exception raised-> execute block gets executed\n",
        "except:\n",
        "  print('Some error occured')\n",
        "\n",
        "print('out of try except blocks')"
      ],
      "metadata": {
        "colab": {
          "base_uri": "https://localhost:8080/"
        },
        "id": "k5DGCCdLa6bL",
        "outputId": "434e2e4c-b400-4111-984d-e496d94c37f4"
      },
      "execution_count": null,
      "outputs": [
        {
          "output_type": "stream",
          "name": "stdout",
          "text": [
            "Some error occured\n",
            "out of try except blocks\n"
          ]
        }
      ]
    },
    {
      "cell_type": "code",
      "source": [
        "try:\n",
        "  x=int(input(\"enter first value\"))\n",
        "  y=int(input(\"enter second value\"))\n",
        "  print(x/y)\n",
        "\n",
        "except:\n",
        "  print('Enter a number')  \n",
        "\n",
        "print('out of try except block')"
      ],
      "metadata": {
        "colab": {
          "base_uri": "https://localhost:8080/"
        },
        "id": "xZqG_fpabaEX",
        "outputId": "f704012e-5758-4c7e-a830-a220cbd03942"
      },
      "execution_count": null,
      "outputs": [
        {
          "output_type": "stream",
          "name": "stdout",
          "text": [
            "enter first value5\n",
            "enter second valuej\n",
            "Enter a number\n",
            "out of try except block\n"
          ]
        }
      ]
    },
    {
      "cell_type": "code",
      "source": [
        "try:\n",
        "  a=int(input(\"enter first value\"))\n",
        "  b=int(input(\"enter second value\"))\n",
        "  print(a/b)\n",
        "\n",
        "except:\n",
        "  print('Enter a number')  \n",
        "\n"
      ],
      "metadata": {
        "colab": {
          "base_uri": "https://localhost:8080/"
        },
        "id": "xascZL8UcdIU",
        "outputId": "c60e3969-a0a0-40a7-9144-25ebb64a498c"
      },
      "execution_count": null,
      "outputs": [
        {
          "output_type": "stream",
          "name": "stdout",
          "text": [
            "enter first value4\n",
            "enter second value2\n",
            "2.0\n"
          ]
        }
      ]
    },
    {
      "cell_type": "code",
      "source": [
        "\n",
        "try:\n",
        "  a=int(input(\"enter first value\"))\n",
        "  b=input(\"enter second value\")\n",
        "  print(a/b)\n",
        "  print(\"sum is\",a+b)\n",
        "\n",
        "except ZeroDivisionError:\n",
        "  print('Enter a number other than zero')\n",
        "except ValueError:\n",
        "  print('Enter a number only') \n",
        "except TypeError:\n",
        "  print('Enter a  correct')   \n",
        "\n",
        "print('this is out of try except block')"
      ],
      "metadata": {
        "colab": {
          "base_uri": "https://localhost:8080/"
        },
        "id": "Tlb60BPs7kfl",
        "outputId": "9937d42b-e5d7-43ae-ae02-99d4d4b65675"
      },
      "execution_count": 1,
      "outputs": [
        {
          "output_type": "stream",
          "name": "stdout",
          "text": [
            "enter first value0\n",
            "enter second value7\n",
            "Enter a  correct\n",
            "this is out of try except block\n"
          ]
        }
      ]
    },
    {
      "cell_type": "code",
      "source": [
        "#else, finally\n",
        "\n",
        "try:\n",
        "  a=int(input(\"enter first value\"))\n",
        "  b=int(input(\"enter second value\"))\n",
        "  c=(a/b)\n",
        "  \n",
        "\n",
        "except ZeroDivisionError:\n",
        "  print('Enter a number other than zero')\n",
        "except ValueError:\n",
        "  print('Enter a number only') \n",
        "except TypeError:\n",
        "  print('Enter a  correct')\n",
        "\n",
        "\n",
        "else:  \n",
        "  print('else block')\n",
        "  print('Division=',c)\n"
      ],
      "metadata": {
        "colab": {
          "base_uri": "https://localhost:8080/"
        },
        "id": "j4aTXkp38PDu",
        "outputId": "1ccd8ee0-bfa2-41d5-cc6c-da34055df9c4"
      },
      "execution_count": 2,
      "outputs": [
        {
          "output_type": "stream",
          "name": "stdout",
          "text": [
            "enter first value6\n",
            "enter second valuehhgjh\n",
            "Enter a number only\n"
          ]
        }
      ]
    },
    {
      "cell_type": "code",
      "source": [
        "#else, finally\n",
        "\n",
        "try:\n",
        "  a=int(input(\"enter first value\"))\n",
        "  b=int(input(\"enter second value\"))\n",
        "  c=(a/b)\n",
        "  \n",
        "\n",
        "except ZeroDivisionError:\n",
        "  print('Enter a number other than zero')\n",
        "except ValueError:\n",
        "  print('Enter a number only') \n",
        "except TypeError:\n",
        "  print('Enter a  correct')\n",
        "\n",
        "\n",
        "else:  \n",
        "  print('else block')\n",
        "  print('Division=',c)"
      ],
      "metadata": {
        "colab": {
          "base_uri": "https://localhost:8080/"
        },
        "id": "Ar0u3EWe8nEe",
        "outputId": "df55ad36-451e-44af-a853-d8cd4877e32d"
      },
      "execution_count": 3,
      "outputs": [
        {
          "output_type": "stream",
          "name": "stdout",
          "text": [
            "enter first value4\n",
            "enter second value8\n",
            "else block\n",
            "Division= 0.5\n"
          ]
        }
      ]
    },
    {
      "cell_type": "code",
      "source": [
        "try:\n",
        "  a=int(input(\"enter first value\"))\n",
        "  b=int(input(\"enter second value\"))\n",
        "  c=(a/b)\n",
        "  \n",
        "\n",
        "except ZeroDivisionError:\n",
        "  print('Enter a number other than zero')\n",
        "except ValueError:\n",
        "  print('Enter a number only') \n",
        "except TypeError:\n",
        "  print('Enter a  correct')\n",
        "\n",
        "\n",
        "#else:  \n",
        "  print('else block')\n",
        "  print('Division=',c)\n",
        "\n",
        "\n",
        "finally:\n",
        "  print(\"finally block\")\n",
        "print('out of my try, except, else,finally block')"
      ],
      "metadata": {
        "colab": {
          "base_uri": "https://localhost:8080/"
        },
        "id": "P3TDJNSH9Bgu",
        "outputId": "d3a65c56-cfe7-4bfe-a237-dadc538b61e9"
      },
      "execution_count": 4,
      "outputs": [
        {
          "output_type": "stream",
          "name": "stdout",
          "text": [
            "enter first value7\n",
            "enter second valuehghh\n",
            "Enter a number only\n",
            "finally block\n",
            "out of my try, except, else,finally block\n"
          ]
        }
      ]
    },
    {
      "cell_type": "code",
      "source": [
        "try:\n",
        "  a=int(input(\"enter first value\"))\n",
        "  b=input(\"enter second value\")\n",
        "  c=(a/b)\n",
        "  \n",
        "\n",
        "except ZeroDivisionError:\n",
        "  print('Enter a number other than zero')\n",
        "except ValueError:\n",
        "  print('Enter a number only') \n",
        "except TypeError:\n",
        "  print('Enter a  correct')\n",
        "\n",
        "\n",
        "else:  \n",
        "  print('else block')\n",
        "  print('Division=',c)\n",
        "\n",
        "\n",
        "finally:\n",
        "  print(\"finally block\")\n",
        "print('out of my try, except, else,finally block')"
      ],
      "metadata": {
        "colab": {
          "base_uri": "https://localhost:8080/"
        },
        "id": "DX7W06fb9TL-",
        "outputId": "4a79bcde-5a87-40f8-ede5-979ccc9a53ac"
      },
      "execution_count": 5,
      "outputs": [
        {
          "output_type": "stream",
          "name": "stdout",
          "text": [
            "enter first valuehhg\n",
            "Enter a number only\n",
            "finally block\n",
            "out of my try, except, else,finally block\n"
          ]
        }
      ]
    },
    {
      "cell_type": "code",
      "source": [
        "from ast import Raise\n",
        "x=int(input())\n",
        "y=input()\n",
        "try:\n",
        "  if y==0: \n",
        "     raise ZeroDivisionError()\n",
        "     z=x/y\n",
        "     print(\"Divison =\",z)\n",
        "\n",
        "except ZeroDivisionError:\n",
        "  print(\"you cannot divide by zero\")\n",
        "\n",
        "\n",
        "\n",
        "finally:\n",
        "  print(\"finally block\")"
      ],
      "metadata": {
        "colab": {
          "base_uri": "https://localhost:8080/"
        },
        "id": "0RWzJKn99t21",
        "outputId": "1c7f305f-cb8e-41b9-f848-6b5d279ed839"
      },
      "execution_count": 9,
      "outputs": [
        {
          "output_type": "stream",
          "name": "stdout",
          "text": [
            "9\n",
            "0\n",
            "finally block\n"
          ]
        }
      ]
    },
    {
      "cell_type": "code",
      "source": [
        "try:\n",
        "  print(\"line1\")\n",
        "  print('line2')\n",
        "  try:\n",
        "    print(\"line3\")\n",
        "    print('line4')\n",
        "  except ZeroDivisionError:\n",
        "    print(\"except\")\n",
        "  finally:\n",
        "    print('finally')\n",
        "  print('lines')\n",
        "except TypeError:\n",
        "  print(\"exception2\")\n",
        "finally:\n",
        "  print(\"finally2\")"
      ],
      "metadata": {
        "colab": {
          "base_uri": "https://localhost:8080/"
        },
        "id": "KeaIEBzA_Ay2",
        "outputId": "5c01906b-8f27-4e53-d0d4-dfd8bfa420d1"
      },
      "execution_count": 10,
      "outputs": [
        {
          "output_type": "stream",
          "name": "stdout",
          "text": [
            "line1\n",
            "line2\n",
            "line3\n",
            "line4\n",
            "finally\n",
            "lines\n",
            "finally2\n"
          ]
        }
      ]
    },
    {
      "cell_type": "code",
      "source": [
        "\n",
        "#1.try, except, \n",
        "#2. try and except should be used along\n",
        "#3. We can have no of except blocks\n",
        "#4.type of exception raised should be matched with the except exceptionclass Name\n",
        "#5. If there is no exception raised in try block, except block is skipped\n",
        "#6. if the exception raised is not handled by using except., then DEM works, the program ends\n",
        "#7.finally block always runs\n",
        "#8. if try block has no exception raised, then else will get executed and viceversa\n"
      ],
      "metadata": {
        "id": "z-rng2lzetol"
      },
      "execution_count": 12,
      "outputs": []
    }
  ]
}