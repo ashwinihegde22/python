{
  "nbformat": 4,
  "nbformat_minor": 0,
  "metadata": {
    "colab": {
      "provenance": [],
      "collapsed_sections": [],
      "authorship_tag": "ABX9TyMcQ9eKCwXgnddrfPMKuVbW",
      "include_colab_link": true
    },
    "kernelspec": {
      "name": "python3",
      "display_name": "Python 3"
    },
    "language_info": {
      "name": "python"
    }
  },
  "cells": [
    {
      "cell_type": "markdown",
      "metadata": {
        "id": "view-in-github",
        "colab_type": "text"
      },
      "source": [
        "<a href=\"https://colab.research.google.com/github/ashwinihegde22/python/blob/main/exercise2python.ipynb\" target=\"_parent\"><img src=\"https://colab.research.google.com/assets/colab-badge.svg\" alt=\"Open In Colab\"/></a>"
      ]
    },
    {
      "cell_type": "code",
      "source": [],
      "metadata": {
        "id": "zkPnwLm66rnU"
      },
      "execution_count": null,
      "outputs": []
    },
    {
      "cell_type": "code",
      "execution_count": 11,
      "metadata": {
        "colab": {
          "base_uri": "https://localhost:8080/"
        },
        "id": "exzHdXEgZfeh",
        "outputId": "eb424bdb-5ac9-44a8-e748-138ea1414e11"
      },
      "outputs": [
        {
          "output_type": "stream",
          "name": "stdout",
          "text": [
            "Enter three stringashwini keerti sucheta\n",
            "Name1: ashwini\n",
            "Name2: keerti\n",
            "Name3: sucheta\n"
          ]
        }
      ],
      "source": [
        "string1, string2, string3 = input(\"Enter three string\").split()\n",
        "print('Name1:', string1)\n",
        "print('Name2:', string2)\n",
        "print('Name3:', string3)"
      ]
    },
    {
      "cell_type": "code",
      "source": [],
      "metadata": {
        "id": "RBob0I7r68-9"
      },
      "execution_count": null,
      "outputs": []
    },
    {
      "cell_type": "code",
      "source": [
        "row = 5\n",
        "for i in range(1, row + 1):\n",
        "    for j in range(1, i + 1):\n",
        "        print(j, end=' ')\n",
        "    print('')"
      ],
      "metadata": {
        "colab": {
          "base_uri": "https://localhost:8080/"
        },
        "id": "ZOZT4pj3cydh",
        "outputId": "0a6b99d5-31b9-4651-da3b-e5f37d50e58b"
      },
      "execution_count": 12,
      "outputs": [
        {
          "output_type": "stream",
          "name": "stdout",
          "text": [
            "1 \n",
            "1 2 \n",
            "1 2 3 \n",
            "1 2 3 4 \n",
            "1 2 3 4 5 \n"
          ]
        }
      ]
    },
    {
      "cell_type": "code",
      "source": [],
      "metadata": {
        "id": "0m3vYB8V7Ey1"
      },
      "execution_count": null,
      "outputs": []
    },
    {
      "cell_type": "code",
      "source": [
        "n = int(input(\"Enter  the number\"))\n",
        "sums = 0\n",
        "for num in range(1, n + 1, 1):\n",
        "    sums = sums + num\n",
        "print(\"Sum of the numbers is: \", sums)"
      ],
      "metadata": {
        "id": "M4SODrSrdKik",
        "colab": {
          "base_uri": "https://localhost:8080/"
        },
        "outputId": "1ffd2e50-0a88-4122-f7c6-bb6616e53441"
      },
      "execution_count": 13,
      "outputs": [
        {
          "output_type": "stream",
          "name": "stdout",
          "text": [
            "Enter  the number6\n",
            "Sum of the numbers is:  21\n"
          ]
        }
      ]
    },
    {
      "cell_type": "code",
      "source": [],
      "metadata": {
        "id": "nhLUWx0L7miH"
      },
      "execution_count": null,
      "outputs": []
    },
    {
      "cell_type": "code",
      "source": [
        "list1 = [11,22,33,44,55]\n",
        "print(\"List before reverse : \",list1)\n",
        "list1.reverse()\n",
        "print(\"List after reverse : \",list1)"
      ],
      "metadata": {
        "id": "vnS1v4GmfmFE",
        "colab": {
          "base_uri": "https://localhost:8080/"
        },
        "outputId": "c23095e4-6e38-4a03-f127-cf91aed3fd46"
      },
      "execution_count": 14,
      "outputs": [
        {
          "output_type": "stream",
          "name": "stdout",
          "text": [
            "List before reverse :  [11, 22, 33, 44, 55]\n",
            "List after reverse :  [55, 44, 33, 22, 11]\n"
          ]
        }
      ]
    },
    {
      "cell_type": "code",
      "source": [],
      "metadata": {
        "id": "dIswhqF47zMZ"
      },
      "execution_count": null,
      "outputs": []
    },
    {
      "cell_type": "code",
      "source": [
        "minimum = int(input(\"Enter the minimum range: \"))\n",
        "maximum = int(input(\"Enter the maximum range : \"))\n",
        "for n in range(minimum,maximum + 1):\n",
        "   if n > 1:\n",
        "       for i in range(2,n):\n",
        "           if (n % i) == 0:\n",
        "               break\n",
        "       else:\n",
        "           print(n)"
      ],
      "metadata": {
        "id": "_DRCMm1XgQsi",
        "colab": {
          "base_uri": "https://localhost:8080/"
        },
        "outputId": "b4f766c6-a59b-4cab-e6f8-711af64b9f46"
      },
      "execution_count": 15,
      "outputs": [
        {
          "output_type": "stream",
          "name": "stdout",
          "text": [
            "Enter the minimum range: 1 \n",
            "Enter the maximum range : 10\n",
            "2\n",
            "3\n",
            "5\n",
            "7\n"
          ]
        }
      ]
    },
    {
      "cell_type": "code",
      "source": [
        "number = 7\n",
        "\n",
        "\n",
        "number = int(input(\"Enter a number: \"))\n",
        "\n",
        "factorial = 1\n",
        "\n",
        "if number < 0:\n",
        "   print(\" factorial does not exist for negative numbers\")\n",
        "elif num == 0:\n",
        "   print(\"The factorial of 0 is 1\")\n",
        "else:\n",
        "   for i in range(1,number + 1):\n",
        "       factorial = factorial*i\n",
        "   print(\"The factorial of\",number,\"is\",factorial)"
      ],
      "metadata": {
        "colab": {
          "base_uri": "https://localhost:8080/"
        },
        "id": "bEzhsmiE80Ls",
        "outputId": "8506d9de-33f9-4fc9-f874-3d3e3da6f0e5"
      },
      "execution_count": 16,
      "outputs": [
        {
          "output_type": "stream",
          "name": "stdout",
          "text": [
            "Enter a number: 6\n",
            "The factorial of 6 is 720\n"
          ]
        }
      ]
    },
    {
      "cell_type": "code",
      "source": [
        "row = 5\n",
        "for i in range(0, row):\n",
        "    for j in range(0, i + 1):\n",
        "        print(\"*\", end=' ')\n",
        "    print(\"\\r\")\n",
        "\n",
        "for i in range(row, 0, -1):\n",
        "    for j in range(0, i - 1):\n",
        "        print(\"*\", end=' ')\n",
        "    print(\"\\r\")"
      ],
      "metadata": {
        "colab": {
          "base_uri": "https://localhost:8080/"
        },
        "id": "h3Z3Taxs-lW8",
        "outputId": "10f00c34-ce0d-48b9-df32-63f1d53b69a3"
      },
      "execution_count": 17,
      "outputs": [
        {
          "output_type": "stream",
          "name": "stdout",
          "text": [
            "* \r\n",
            "* * \r\n",
            "* * * \r\n",
            "* * * * \r\n",
            "* * * * * \r\n",
            "* * * * \r\n",
            "* * * \r\n",
            "* * \r\n",
            "* \r\n",
            "\r\n"
          ]
        }
      ]
    }
  ]
}