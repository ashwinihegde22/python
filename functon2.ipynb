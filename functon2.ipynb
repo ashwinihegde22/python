{
  "nbformat": 4,
  "nbformat_minor": 0,
  "metadata": {
    "colab": {
      "provenance": [],
      "collapsed_sections": [],
      "authorship_tag": "ABX9TyNVBqGWgnb5SjkPwhEvlAw1",
      "include_colab_link": true
    },
    "kernelspec": {
      "name": "python3",
      "display_name": "Python 3"
    },
    "language_info": {
      "name": "python"
    }
  },
  "cells": [
    {
      "cell_type": "markdown",
      "metadata": {
        "id": "view-in-github",
        "colab_type": "text"
      },
      "source": [
        "<a href=\"https://colab.research.google.com/github/ashwinihegde22/python/blob/main/functon2.ipynb\" target=\"_parent\"><img src=\"https://colab.research.google.com/assets/colab-badge.svg\" alt=\"Open In Colab\"/></a>"
      ]
    },
    {
      "cell_type": "code",
      "source": [
        "def string(s):\n",
        "    d={\"UPPER_CASE\":0, \"LOWER_CASE\":0}\n",
        "    for b in s:\n",
        "      if b.isupper():\n",
        "         d[\"UPPER_CASE\"]+=1\n",
        "      elif  b.islower():\n",
        "         d[\"LOWER_CASE\"]+=1\n",
        "      else:\n",
        "         pass\n",
        "    print(\"original string\",s)\n",
        "    print(\"no of uppercase charaters:\",d[\"UPPER_CASE\"])\n",
        "    print(\"no of lowercase characters:\",d[\"LOWER_CASE\"])\n",
        "string('Good morning world')"
      ],
      "metadata": {
        "colab": {
          "base_uri": "https://localhost:8080/"
        },
        "id": "DzwxsGa-qa75",
        "outputId": "e1130e21-f45e-472d-b0b8-6a2ef91eba6e"
      },
      "execution_count": 6,
      "outputs": [
        {
          "output_type": "stream",
          "name": "stdout",
          "text": [
            "original string Good morning world\n",
            "no of uppercase charaters: 1\n",
            "no of lowercase characters: 15\n"
          ]
        }
      ]
    },
    {
      "cell_type": "code",
      "source": [
        "import string, sys\n",
        "def pangram(str1, alphabet=string.ascii_lowercase):\n",
        "    alphaset = set(alphabet)\n",
        "    return alphaset <= set(str1.lower())\n",
        " \n",
        "print (pangram('Technical world')) "
      ],
      "metadata": {
        "colab": {
          "base_uri": "https://localhost:8080/"
        },
        "id": "8QfY3uFqulY9",
        "outputId": "a1d8fe6f-5ce8-42f7-c094-5befe680aeb1"
      },
      "execution_count": 8,
      "outputs": [
        {
          "output_type": "stream",
          "name": "stdout",
          "text": [
            "False\n"
          ]
        }
      ]
    },
    {
      "cell_type": "code",
      "source": [
        "num = int(input(\"Enter any number: \"))\n",
        "if num > 1:\n",
        "    for x in range(2, num):\n",
        "        if (num % x) == 0:\n",
        "            print(num, \"is not a prime number\")\n",
        "            break\n",
        "    else:\n",
        "        print(num, \"is a prime number\")\n",
        "\n",
        "\n",
        "else:\n",
        "    print(num, \"is not a prime number\")"
      ],
      "metadata": {
        "colab": {
          "base_uri": "https://localhost:8080/"
        },
        "id": "weYKN18num1J",
        "outputId": "ae0c223d-ddb1-46c0-9e87-e406566c6651"
      },
      "execution_count": 10,
      "outputs": [
        {
          "output_type": "stream",
          "name": "stdout",
          "text": [
            "Enter any number: 8\n",
            "8 is not a prime number\n"
          ]
        }
      ]
    },
    {
      "cell_type": "code",
      "source": [
        "def perfectnum(num):\n",
        "    sum = 0\n",
        "    for i in range(1, num):\n",
        "        if num % i == 0:\n",
        "            sum += i\n",
        "    return sum == num\n",
        "print(perfectnum(6))"
      ],
      "metadata": {
        "colab": {
          "base_uri": "https://localhost:8080/"
        },
        "id": "Qx_g1Vrpw-iH",
        "outputId": "56f8b4a7-bbfd-4f2d-acda-6dd18d4f963d"
      },
      "execution_count": 13,
      "outputs": [
        {
          "output_type": "stream",
          "name": "stdout",
          "text": [
            "True\n"
          ]
        }
      ]
    }
  ]
}